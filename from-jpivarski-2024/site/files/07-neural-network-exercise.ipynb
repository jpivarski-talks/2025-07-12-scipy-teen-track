{
 "cells": [
  {
   "cell_type": "markdown",
   "id": "b80524e3-a598-4d5e-8c35-de9320828758",
   "metadata": {},
   "source": [
    "# Second project: tuning neural network hyperparameters (30 minutes)"
   ]
  },
  {
   "cell_type": "markdown",
   "id": "ac91814c-1ac5-4687-8be1-cce1ff048093",
   "metadata": {},
   "source": [
    "In this project, you will tune the hyperparameters of a neural network to classify orange and blue points in 2 dimensions.\n",
    "\n",
    "Again, form groups of 2 or 3 and work together!\n",
    "\n",
    "Hyperparameters are the design parameters of the model that are _not_ automatically optimized by the fitting procedure. They include:\n",
    "\n",
    "* features (or \"feature engineering\"): what computed values of the 2 dimensions, $x_1$ and $x_2$, are used as inputs to the neural network?\n",
    "* how many hidden layers?\n",
    "* how many neurons per hidden layer?\n",
    "* which non-linear \"activation\" function to apply between each layer?\n",
    "* learning rate: how fast to jump to a perceived optimization in each iteration?\n",
    "* should regularization be used to prevent overfitting?\n",
    "* if so, how strongly (regularization rate) should regularization be applied?\n",
    "\n",
    "**Challenges:**\n",
    "\n",
    "1. Choose the Gaussian dataset on the left and fit it with no noise.\n",
    "2. Fit it with maximum noise (50).\n",
    "3. Do the same for the Circle dataset.\n",
    "4. Do the same for the Exclusive Or dataset.\n",
    "5. Hardest one: do it for the Spiral dataset.\n",
    "\n",
    "Use the TensorFlow Playground at [this link](https://playground.tensorflow.org/#activation=linear&batchSize=10&dataset=gauss&regDataset=reg-plane&learningRate=0.03&regularizationRate=0&noise=0&networkShape=&seed=0.46565&showTestData=false&discretize=false&percTrainData=50&x=true&y=true&xTimesY=false&xSquared=false&ySquared=false&cosX=false&sinX=false&cosY=false&sinY=false&collectStats=false&problem=classification&initZero=false&hideText=false) or in the cell below."
   ]
  },
  {
   "cell_type": "code",
   "execution_count": 13,
   "id": "79364e3d-de1d-4fcf-a374-aba0a1fcbc79",
   "metadata": {},
   "outputs": [
    {
     "data": {
      "text/html": [
       "<div style=\"overflow: hidden;\"><iframe src=\"https://playground.tensorflow.org/#activation=linear&batchSize=10&dataset=gauss&regDataset=reg-plane&learningRate=0.03&regularizationRate=0&noise=0&networkShape=&seed=0.46565&showTestData=false&discretize=false&percTrainData=50&x=true&y=true&xTimesY=false&xSquared=false&ySquared=false&cosX=false&sinX=false&cosY=false&sinY=false&collectStats=false&problem=classification&initZero=false&hideText=false\" width=\"100%\" height=\"920\" scrolling=\"no\" style=\"border: none; margin-top: -220px; clip-path: xywh(0 220px 100% 100%);\"></div>\n"
      ],
      "text/plain": [
       "<IPython.core.display.HTML object>"
      ]
     },
     "metadata": {},
     "output_type": "display_data"
    }
   ],
   "source": [
    "%%html\n",
    "<div style=\"overflow: hidden;\"><iframe src=\"https://playground.tensorflow.org/#activation=linear&batchSize=10&dataset=gauss&regDataset=reg-plane&learningRate=0.03&regularizationRate=0&noise=0&networkShape=&seed=0.46565&showTestData=false&discretize=false&percTrainData=50&x=true&y=true&xTimesY=false&xSquared=false&ySquared=false&cosX=false&sinX=false&cosY=false&sinY=false&collectStats=false&problem=classification&initZero=false&hideText=false\" width=\"100%\" height=\"920\" scrolling=\"no\" style=\"border: none; margin-top: -220px; clip-path: xywh(0 220px 100% 100%);\"></div>"
   ]
  }
 ],
 "metadata": {
  "kernelspec": {
   "display_name": "Python 3 (ipykernel)",
   "language": "python",
   "name": "python3"
  },
  "language_info": {
   "codemirror_mode": {
    "name": "ipython",
    "version": 3
   },
   "file_extension": ".py",
   "mimetype": "text/x-python",
   "name": "python",
   "nbconvert_exporter": "python",
   "pygments_lexer": "ipython3",
   "version": "3.10.14"
  }
 },
 "nbformat": 4,
 "nbformat_minor": 5
}
