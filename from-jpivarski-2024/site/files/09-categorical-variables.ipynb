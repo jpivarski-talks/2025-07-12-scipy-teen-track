{
 "cells": [
  {
   "cell_type": "markdown",
   "id": "f074c641-00ef-45db-89a2-808a42680b90",
   "metadata": {},
   "source": [
    "# Categorical variables"
   ]
  },
  {
   "cell_type": "markdown",
   "id": "79deea7a-c0fe-4ef0-a158-9cf340f33b9c",
   "metadata": {},
   "source": [
    "<br><br><br>"
   ]
  },
  {
   "cell_type": "markdown",
   "id": "848067d2-eade-40e9-9034-eda864d5fc8c",
   "metadata": {},
   "source": [
    "## Recap of yesterday"
   ]
  },
  {
   "cell_type": "markdown",
   "id": "28bf33dd-d9e1-4cb3-8ce2-9c77b2fb23d5",
   "metadata": {},
   "source": [
    "I'll just leave this here so we can refer back to it.\n",
    "\n",
    "* Quantitative data analysts distinguish between **measurements**, which are direct observations or outcomes of experiments, and **models**, which are mathematical machines that describe, predict, or explain the measurements in a quantitative way.\n",
    "* Measurements can be expressed as points in an **N-dimensional space**. Since the number of measurements is finite, they can't completely fill the space.\n",
    "  * Measurements can be represented in a 2-D data frame or 2-D array, in which the rows are repeated observations or experiments and the columns are observed attributes, one column/dimension per attribute.\n",
    "  * Measurements can be visualized as a `scatter` plot.\n",
    "  * Measurements say what _is_ true.\n",
    "* Models, when questioned, provide a response for any point in the **N-dimensional space**, so a model completely fills the space.\n",
    "  * Models can be represented in an N-dimensional array, as a value for each point in space, or as a function that returns a response for N arguments.\n",
    "  * Models can be visualized by coloring a space with `imshow` or `contourf`, or with contour lines (like mountains on an elevation map).\n",
    "  * The model-function's response may be\n",
    "    * the probability that that combination of attributes exists, or\n",
    "    * a prediction of some other attribute (or its probability), or\n",
    "    * a category that we use to organize the data but isn't directly measurable, such as species (or its probability).\n",
    "  * Models say what _would be_ true, under the given conditions, assuming that the model is accurate, etc.\n",
    "* Models are algorithms involving numerical and categorical values: changing these values changes the model.\n",
    "  * **Parameters** are values that we tune in an automated **fitting** procedure to find the best model for some measurements.\n",
    "  * **Hyperparameters** are not part of the fitting procedure, but also impact the quality of the fitted model.\n",
    "  * Models that don't accurately resemble their training data are **underfitted**.\n",
    "  * Models that are too similar to their training data (take the individual points too literally—don't generalize well) are **overfitted**.\n",
    "  * Both underfitting and overfitting are problematic.\n",
    "* **Machine learning** is a fitting procedure, usually with very large datasets and very large numbers of parameters.\n",
    "* A **neural network** is currently the most successful kind of machine learning model.\n",
    "  * A neural network consists of layers of linear functions with many parameters sandwiched between non-linear functions.\n",
    "  * Optimizing a neural network involves tuning the parameters of the linear functions so that the whole model fits the training data.\n",
    "  * **Deep learning** is a neural network with many layers (which became feasible about 10 years ago)."
   ]
  },
  {
   "cell_type": "markdown",
   "id": "23da5c9e-6c9c-4a9d-9e34-56160ea8058a",
   "metadata": {},
   "source": [
    "<br><br><br>"
   ]
  },
  {
   "cell_type": "markdown",
   "id": "1c8bf664-7803-477f-a6f2-4add6edb53f1",
   "metadata": {},
   "source": [
    "## What we'll do today"
   ]
  },
  {
   "cell_type": "markdown",
   "id": "bc30519f-6868-4cf7-bba4-cd1723dc7166",
   "metadata": {},
   "source": [
    "Short discussion of categorical variables, using the penguins dataset.\n",
    "\n",
    "A more detailed look at text-based data using the complete works of Shakespeare.\n",
    "\n",
    "Build an autocomplete engine, learning a little about SQL and databases along the way.\n",
    "\n",
    "Talk about the similarities and differences between our autocomplete engine and large language models like ChatGPT."
   ]
  },
  {
   "cell_type": "markdown",
   "id": "2f50937d-b59d-4ccf-b8c9-7f63e575009d",
   "metadata": {},
   "source": [
    "<br><br><br>"
   ]
  },
  {
   "cell_type": "markdown",
   "id": "40772216-568b-422d-947f-67aaff9b28c2",
   "metadata": {
    "jp-MarkdownHeadingCollapsed": true
   },
   "source": [
    "## Categorical variables among the penguins"
   ]
  },
  {
   "cell_type": "code",
   "execution_count": null,
   "id": "e2d2eaf8-e86f-4f3d-8c15-38b5597ccfea",
   "metadata": {},
   "outputs": [],
   "source": [
    "import pandas as pd\n",
    "import numpy as np\n",
    "import matplotlib.pyplot as plt"
   ]
  },
  {
   "cell_type": "code",
   "execution_count": null,
   "id": "83c924fa-4c15-4319-80e9-40a54e3ea7da",
   "metadata": {},
   "outputs": [],
   "source": [
    "penguins = pd.read_csv(\"data/penguins.csv\")\n",
    "penguins"
   ]
  },
  {
   "cell_type": "markdown",
   "id": "78ae9c8f-bcea-47c6-bc34-5b3d54cf9970",
   "metadata": {},
   "source": [
    "<br><br><br>"
   ]
  },
  {
   "cell_type": "code",
   "execution_count": null,
   "id": "cc234428-5485-4b6f-829a-d864d5b20366",
   "metadata": {},
   "outputs": [],
   "source": [
    "penguins[[\"species\", \"island\", \"sex\"]]"
   ]
  },
  {
   "cell_type": "code",
   "execution_count": null,
   "id": "48883ef7-fd35-4687-bef5-94635ce875a0",
   "metadata": {},
   "outputs": [],
   "source": [
    "penguins[\"species\"].unique()"
   ]
  },
  {
   "cell_type": "code",
   "execution_count": null,
   "id": "72ad74b8-e738-4945-80bc-a8a025e349ec",
   "metadata": {},
   "outputs": [],
   "source": [
    "penguins[\"island\"].unique()"
   ]
  },
  {
   "cell_type": "code",
   "execution_count": null,
   "id": "44cee03d-4ff8-4f8b-903d-927c5f04ab60",
   "metadata": {},
   "outputs": [],
   "source": [
    "penguins[\"sex\"].unique()"
   ]
  },
  {
   "cell_type": "markdown",
   "id": "2ab89160-72bb-4eb5-a10c-a8765a0ccfd8",
   "metadata": {},
   "source": [
    "<br><br><br>"
   ]
  },
  {
   "cell_type": "markdown",
   "id": "e0254eed-15b4-421d-ba96-18ee74257d71",
   "metadata": {},
   "source": [
    "Many (not all!) machine learning models require inputs and outputs to be numerical. How can we do that?"
   ]
  },
  {
   "cell_type": "markdown",
   "id": "78a9fc14-9496-4d87-8ab8-28fed75ac18c",
   "metadata": {},
   "source": [
    "<br><br><br>"
   ]
  },
  {
   "cell_type": "markdown",
   "id": "ea909871-eae1-46b5-b64c-dcd7679eb297",
   "metadata": {
    "jp-MarkdownHeadingCollapsed": true
   },
   "source": [
    "### Method 1"
   ]
  },
  {
   "cell_type": "markdown",
   "id": "cc49edc2-0e17-4beb-a061-09374417703c",
   "metadata": {},
   "source": [
    "Associate a number to each category. We've already done this."
   ]
  },
  {
   "cell_type": "code",
   "execution_count": null,
   "id": "3a4f1a34-f846-4605-8d2f-23c9a1c99faf",
   "metadata": {},
   "outputs": [],
   "source": [
    "pd.Categorical(penguins[\"species\"]).codes"
   ]
  },
  {
   "cell_type": "code",
   "execution_count": null,
   "id": "08ed7c17-18d6-4c65-85cc-13ddef91b491",
   "metadata": {},
   "outputs": [],
   "source": [
    "pd.Categorical(penguins[\"island\"]).codes"
   ]
  },
  {
   "cell_type": "code",
   "execution_count": null,
   "id": "c9339c8b-34d0-4665-8a6c-1de669e59448",
   "metadata": {},
   "outputs": [],
   "source": [
    "pd.Categorical(penguins[\"sex\"]).codes"
   ]
  },
  {
   "cell_type": "markdown",
   "id": "ae4d2adc-6497-45df-afb1-d4fc04165a1c",
   "metadata": {},
   "source": [
    "<br><br><br>"
   ]
  },
  {
   "cell_type": "markdown",
   "id": "2ac9f53c-f713-4cf1-b7ea-d1387bd49dce",
   "metadata": {},
   "source": [
    "Notice that this plot is using a numerical relationship among Adelie, Gentoo, and Chinstrap to give the horizontal axis an order (Adelie first, then Gentoo, then Chinstrap)."
   ]
  },
  {
   "cell_type": "code",
   "execution_count": null,
   "id": "86ed754d-06d7-4d92-9b51-5aa38cee8f3f",
   "metadata": {},
   "outputs": [],
   "source": [
    "penguins[\"species\"].value_counts().plot(kind=\"bar\")"
   ]
  },
  {
   "cell_type": "code",
   "execution_count": null,
   "id": "1c5c77fd-7ab4-4bc7-88a8-5bc3dc50eeb3",
   "metadata": {},
   "outputs": [],
   "source": [
    "pd.crosstab(penguins[\"species\"], penguins[\"island\"])"
   ]
  },
  {
   "cell_type": "code",
   "execution_count": null,
   "id": "7ddbbd8b-2b69-40d5-8154-3dc12cb487dc",
   "metadata": {},
   "outputs": [],
   "source": [
    "fig, ax = plt.subplots()\n",
    "\n",
    "matrix = ax.matshow(pd.crosstab(penguins[\"species\"], penguins[\"island\"]).values)\n",
    "fig.colorbar(matrix, label=\"number of penguins\")\n",
    "\n",
    "ax.set_xticks([0, 1, 2], [\"Biscoe\", \"Dream\", \"Torgersen\"])\n",
    "ax.set_yticks([0, 1, 2], [\"Adelie\", \"Chinstrap\", \"Gentoo\"])\n",
    "\n",
    "None"
   ]
  },
  {
   "cell_type": "markdown",
   "id": "9750e913-1a92-4db8-b851-fdd79f8a838f",
   "metadata": {},
   "source": [
    "<br><br><br>"
   ]
  },
  {
   "cell_type": "markdown",
   "id": "0220131f-97af-4c06-8c3e-49d18e7714f9",
   "metadata": {},
   "source": [
    "The disadvantage of this method is that the order is not meaningful—it's something we made up—and a machine learning model might optimize for it.\n",
    "\n",
    "It's an invitation to overfitting (which can be controlled, but still)."
   ]
  },
  {
   "cell_type": "markdown",
   "id": "7b9d9e6c-6ec0-4d44-bfb2-631b8c77afa1",
   "metadata": {},
   "source": [
    "<br><br><br>"
   ]
  },
  {
   "cell_type": "markdown",
   "id": "5df0481f-6757-4e2e-8128-7cb11ad6d04e",
   "metadata": {
    "jp-MarkdownHeadingCollapsed": true
   },
   "source": [
    "### Method 2"
   ]
  },
  {
   "cell_type": "markdown",
   "id": "602b8ba4-df77-4213-8161-95fcdbd5cc7a",
   "metadata": {},
   "source": [
    "Create a dimension for each value of a categorical variable:"
   ]
  },
  {
   "cell_type": "code",
   "execution_count": null,
   "id": "3b15921d-b453-4fd1-a77d-0f50fc9c2394",
   "metadata": {},
   "outputs": [],
   "source": [
    "expanded_penguins = pd.get_dummies(penguins.dropna(), columns=[\"species\", \"island\", \"sex\"])\n",
    "expanded_penguins"
   ]
  },
  {
   "cell_type": "code",
   "execution_count": null,
   "id": "878315d2-a3fb-49b2-9bb5-b30cc841ae1e",
   "metadata": {},
   "outputs": [],
   "source": [
    "fig, ax = plt.subplots(figsize=(6, 6))\n",
    "\n",
    "sex2D = expanded_penguins[[\"sex_female\", \"sex_male\"]].values\n",
    "\n",
    "# scatter a little, so we can see overlapping points\n",
    "sex2D = sex2D.astype(np.float64) + np.random.normal(0, 0.05, (len(expanded_penguins), 2))\n",
    "\n",
    "ax.scatter(sex2D[:, 0], sex2D[:, 1], marker=\".\")\n",
    "\n",
    "ax.set_xlim(-0.3, 1.3)\n",
    "ax.set_ylim(-0.3, 1.3)\n",
    "ax.set_xlabel(\"sex_female\")\n",
    "ax.set_ylabel(\"sex_male\")\n",
    "ax.axhline(0, color=\"gray\", ls=\":\")\n",
    "ax.axvline(0, color=\"gray\", ls=\":\")\n",
    "\n",
    "None"
   ]
  },
  {
   "cell_type": "code",
   "execution_count": null,
   "id": "226ee8e9-a2b0-4912-b185-0ae73bea994e",
   "metadata": {},
   "outputs": [],
   "source": [
    "fig = plt.figure(figsize=(6, 6))\n",
    "ax = fig.add_subplot(projection=\"3d\")\n",
    "\n",
    "island3D = expanded_penguins[[\"island_Biscoe\", \"island_Dream\", \"island_Torgersen\"]].values\n",
    "\n",
    "# scatter a little, so we can see overlapping points\n",
    "island3D = island3D.astype(np.float64) + np.random.normal(0, 0.05, (len(expanded_penguins), 3))\n",
    "\n",
    "ax.scatter(island3D[:, 0], island3D[:, 1], island3D[:, 2], marker=\".\")\n",
    "\n",
    "ax.set_xlabel(\"Biscoe\")\n",
    "ax.set_ylabel(\"Dream\")\n",
    "ax.set_zlabel(\"Torgersen\")\n",
    "\n",
    "None"
   ]
  },
  {
   "cell_type": "markdown",
   "id": "02761b93-2511-4bb3-a714-1c104c5426b2",
   "metadata": {},
   "source": [
    "<br><br><br>"
   ]
  },
  {
   "cell_type": "markdown",
   "id": "074978aa-f331-4450-9376-9e2656a9c03a",
   "metadata": {},
   "source": [
    "The disadvantages of this method are that\n",
    "\n",
    "* we quickly end up with a lot of dimensions, which uses more memory and computation time, and\n",
    "* all the values between and beyond 0 and 1 are meaningless.\n",
    "\n",
    "But if you can afford it, it's a robust way to make models!"
   ]
  }
 ],
 "metadata": {
  "kernelspec": {
   "display_name": "Python 3 (ipykernel)",
   "language": "python",
   "name": "python3"
  },
  "language_info": {
   "codemirror_mode": {
    "name": "ipython",
    "version": 3
   },
   "file_extension": ".py",
   "mimetype": "text/x-python",
   "name": "python",
   "nbconvert_exporter": "python",
   "pygments_lexer": "ipython3",
   "version": "3.10.14"
  }
 },
 "nbformat": 4,
 "nbformat_minor": 5
}
