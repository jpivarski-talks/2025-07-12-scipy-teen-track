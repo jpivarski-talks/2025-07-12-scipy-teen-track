{
 "cells": [
  {
   "cell_type": "markdown",
   "id": "64049194-1df7-4078-abdb-6ff3d46f4f35",
   "metadata": {},
   "source": [
    "# Python review"
   ]
  },
  {
   "cell_type": "markdown",
   "id": "47d1bf3a-98ac-4068-9b8b-3f9e3ce3f505",
   "metadata": {},
   "source": [
    "This notebook covers all the Python you need to know _for our tutorial_ (today and tomorrow).\n",
    "\n",
    "Python has a lot of nice features, but we'll only be using what is presented in this notebook.\n",
    "\n",
    "I'm also assuming that this is all familiar, just a review. If so, we'll go through it quickly. If not, ask me to slow down and explain any features that are new to you.\n",
    "\n",
    "To run cells along with me, click in the cell and type shift-enter or control-enter.\n",
    "\n",
    "Order matters, so if you need to start over, select a cell and choose \"Restart Kernel and Run up to Selected Cell\" from the \"Kernel\" menu."
   ]
  },
  {
   "cell_type": "markdown",
   "id": "fab12bfe-c85d-4fd5-b3c3-ef46182fa1c9",
   "metadata": {},
   "source": [
    "<br><br><br>"
   ]
  },
  {
   "cell_type": "markdown",
   "id": "13532586-9442-4b48-a6b8-ccb66587b6b7",
   "metadata": {
    "jp-MarkdownHeadingCollapsed": true
   },
   "source": [
    "## Expressions and assignment"
   ]
  },
  {
   "cell_type": "code",
   "execution_count": null,
   "id": "37cd20b5-f1c5-434e-9103-c01b65ccbfa6",
   "metadata": {},
   "outputs": [],
   "source": [
    "2 + 2"
   ]
  },
  {
   "cell_type": "markdown",
   "id": "8c9f896e-be93-4540-bc0b-8d5f6cd17bdc",
   "metadata": {},
   "source": [
    "<br><br><br>"
   ]
  },
  {
   "cell_type": "code",
   "execution_count": null,
   "id": "2bd65edc-4111-4b31-bb6a-ef2bc11b7d06",
   "metadata": {},
   "outputs": [],
   "source": [
    "# 2 + 2"
   ]
  },
  {
   "cell_type": "markdown",
   "id": "99995e07-01fc-4951-8fe4-d97de53e01cc",
   "metadata": {},
   "source": [
    "<br><br><br>"
   ]
  },
  {
   "cell_type": "code",
   "execution_count": null,
   "id": "a7484434-c67c-4bb4-86d6-3dd91b77c4ce",
   "metadata": {},
   "outputs": [],
   "source": [
    "x = 2 + 2"
   ]
  },
  {
   "cell_type": "code",
   "execution_count": null,
   "id": "fa7ecb92-597c-49ce-b6d5-3c29ff62e9de",
   "metadata": {},
   "outputs": [],
   "source": [
    "x"
   ]
  },
  {
   "cell_type": "markdown",
   "id": "394aedec-91c2-45e7-89ef-599432f6f26c",
   "metadata": {},
   "source": [
    "<br><br><br>"
   ]
  },
  {
   "cell_type": "markdown",
   "id": "ee023011-2c3b-4734-a055-2440a3fbc67d",
   "metadata": {},
   "source": [
    "| math | | Python |\n",
    "|:--:|:--:|:--:|\n",
    "| $x + y$ | | `x + y` |\n",
    "| $x - y$ | | `x - y` |\n",
    "| $x \\times y$ | | `x * y` |\n",
    "| $x \\div y$ | | `x / y` |\n",
    "| $x \\bmod y$ | | `x % y` |\n",
    "| $x^n$ | | `x**n` |\n",
    "| $(x + y) \\times z$ | | `(x + y) * z` |"
   ]
  },
  {
   "cell_type": "markdown",
   "id": "7dbf0fc9-a982-4855-84dd-b369a0e43fe2",
   "metadata": {},
   "source": [
    "<br><br><br>"
   ]
  },
  {
   "cell_type": "code",
   "execution_count": null,
   "id": "e043fdbf-e10f-4754-ba51-ab05f3d35094",
   "metadata": {},
   "outputs": [],
   "source": [
    "print(f\"addition:       {3 + 2 = }\")\n",
    "print(f\"subtraction:    {3 - 2 = }\")\n",
    "print(f\"multiplication: {3 * 2 = }\")\n",
    "print(f\"division:       {3 / 2 = }\")\n",
    "print(f\"modulo:         {3 % 2 = }\")\n",
    "print(f\"exponentiation: {3**2  = }\")\n",
    "print(f\"parentheses:    {(3 + 2) * 100 = } versus {3 + 2 * 100 = }\")"
   ]
  },
  {
   "cell_type": "markdown",
   "id": "ae5c04ed-6b39-4a92-8892-32975f3c2e97",
   "metadata": {},
   "source": [
    "<br><br><br>"
   ]
  },
  {
   "cell_type": "markdown",
   "id": "1abc2932-06b8-44a1-ac32-44e8e756af5d",
   "metadata": {},
   "source": [
    "$$ x = \\frac{-b \\pm \\sqrt{b^2 - 4ac}}{2a} $$"
   ]
  },
  {
   "cell_type": "code",
   "execution_count": null,
   "id": "a9991953-e18b-4ffe-b6e6-7826bed586b9",
   "metadata": {},
   "outputs": [],
   "source": [
    "a = 0.1\n",
    "b = 1.2\n",
    "c = 2.0\n",
    "\n",
    "x_1 = -b + (b**2 - 4*a*c)**0.5 / (2*a)\n",
    "x_2 = -b - (b**2 - 4*a*c)**0.5 / (2*a)"
   ]
  },
  {
   "cell_type": "markdown",
   "id": "45cfa7ce-dda7-4af0-9c0e-e3df6be3ce01",
   "metadata": {},
   "source": [
    "<br><br><br>"
   ]
  },
  {
   "cell_type": "code",
   "execution_count": null,
   "id": "15391b53-6e02-4bcc-8046-8f414353dad9",
   "metadata": {},
   "outputs": [],
   "source": [
    "discriminant = b**2 - 4*a*c\n",
    "\n",
    "x_1 = -b + discriminant**0.5 / (2*a)\n",
    "x_2 = -b - discriminant**0.5 / (2*a)"
   ]
  },
  {
   "cell_type": "markdown",
   "id": "2bea770f-6e25-4e43-af86-4317f2006bae",
   "metadata": {},
   "source": [
    "<br><br><br>"
   ]
  },
  {
   "cell_type": "markdown",
   "id": "67b721fa-0426-4bd4-8d64-314f9d479064",
   "metadata": {
    "jp-MarkdownHeadingCollapsed": true
   },
   "source": [
    "## If-then-else"
   ]
  },
  {
   "cell_type": "code",
   "execution_count": null,
   "id": "8cc9f023-0e08-4448-a427-183f3dd5c0de",
   "metadata": {},
   "outputs": [],
   "source": [
    "if True:\n",
    "    print(\"yay\")\n",
    "else:\n",
    "    print(\"boo\")"
   ]
  },
  {
   "cell_type": "code",
   "execution_count": null,
   "id": "51394780-f337-425d-92a1-3e2449875796",
   "metadata": {},
   "outputs": [],
   "source": [
    "if False:\n",
    "    print(\"yay\")\n",
    "else:\n",
    "    print(\"boo\")"
   ]
  },
  {
   "cell_type": "markdown",
   "id": "11167bad-b1c1-4a62-ac31-1cbdd6598042",
   "metadata": {},
   "source": [
    "<br><br><br>"
   ]
  },
  {
   "cell_type": "code",
   "execution_count": null,
   "id": "71de21b8-be10-4695-ab65-3fa147f21d71",
   "metadata": {},
   "outputs": [],
   "source": [
    "x = 5"
   ]
  },
  {
   "cell_type": "code",
   "execution_count": null,
   "id": "02d9944a-ef15-4277-abfa-1524bc747d53",
   "metadata": {},
   "outputs": [],
   "source": [
    "x == 2 + 3"
   ]
  },
  {
   "cell_type": "code",
   "execution_count": null,
   "id": "195f161d-7eea-44ec-b67e-942aa2763940",
   "metadata": {},
   "outputs": [],
   "source": [
    "x == 2 * 3"
   ]
  },
  {
   "cell_type": "markdown",
   "id": "7f556624-9bc2-48d4-9df5-e660d2fc7d0d",
   "metadata": {},
   "source": [
    "<br><br><br>"
   ]
  },
  {
   "cell_type": "code",
   "execution_count": null,
   "id": "7f4e352f-b476-4fc4-9a4d-2fabbdc4c944",
   "metadata": {},
   "outputs": [],
   "source": [
    "if x == 2 + 3:\n",
    "    print(\"yay\")\n",
    "else:\n",
    "    print(\"boo\")"
   ]
  },
  {
   "cell_type": "code",
   "execution_count": null,
   "id": "7d742a23-8fad-4efe-8c0d-1cbcffdd09b0",
   "metadata": {},
   "outputs": [],
   "source": [
    "if x == 2 * 3:\n",
    "    print(\"yay\")\n",
    "else:\n",
    "    print(\"boo\")"
   ]
  },
  {
   "cell_type": "markdown",
   "id": "dc8c55e4-0dbc-4a02-8721-b12d8108988b",
   "metadata": {},
   "source": [
    "<br><br><br>"
   ]
  },
  {
   "cell_type": "code",
   "execution_count": null,
   "id": "9540ba02-da45-4692-9e08-ad1fa536bb3b",
   "metadata": {},
   "outputs": [],
   "source": [
    "x = 1\n",
    "\n",
    "if x == 1:\n",
    "    print(\"one\")\n",
    "elif x == 2:\n",
    "    print(\"two\")\n",
    "elif x == 3:\n",
    "    print(\"three\")\n",
    "else:\n",
    "    print(\"whatever\")"
   ]
  },
  {
   "cell_type": "markdown",
   "id": "7eee5478-d420-42a9-b261-639027e16c5d",
   "metadata": {},
   "source": [
    "<br><br><br>"
   ]
  },
  {
   "cell_type": "markdown",
   "id": "5f7dfb8f-e6ba-4ca8-9575-409f5b1deead",
   "metadata": {
    "jp-MarkdownHeadingCollapsed": true
   },
   "source": [
    "## For loops and while loops"
   ]
  },
  {
   "cell_type": "code",
   "execution_count": null,
   "id": "5015be03-090a-4867-823e-01b93311c735",
   "metadata": {},
   "outputs": [],
   "source": [
    "for x in range(10):\n",
    "    print(x)"
   ]
  },
  {
   "cell_type": "markdown",
   "id": "60531f72-ec6b-4d21-8b12-6c3d56ad7ac9",
   "metadata": {},
   "source": [
    "<br><br><br>"
   ]
  },
  {
   "cell_type": "code",
   "execution_count": null,
   "id": "e04ec88d-578c-408c-9f1e-13b0780832a0",
   "metadata": {},
   "outputs": [],
   "source": [
    "x = 0\n",
    "while x < 10:\n",
    "    print(x)\n",
    "    x += 1"
   ]
  },
  {
   "cell_type": "markdown",
   "id": "0ea2b6ae-bb0e-4676-952c-3554c4ca39bd",
   "metadata": {},
   "source": [
    "<br><br><br>"
   ]
  },
  {
   "cell_type": "markdown",
   "id": "c69fa08e-46e5-44ab-b8d7-3313ab75df7b",
   "metadata": {},
   "source": [
    "`for` can be seen as a shorthand for `while`. Always use a `for` loop if possible!"
   ]
  },
  {
   "cell_type": "markdown",
   "id": "5ac85c84-aeb0-47f7-bf79-fc849cd3c0bc",
   "metadata": {},
   "source": [
    "<br><br><br>"
   ]
  },
  {
   "cell_type": "markdown",
   "id": "f7c63c3c-4e91-4c16-a499-2fb150c3cd29",
   "metadata": {},
   "source": [
    "**Exercise:** If you have one penny at the beginning of the year and double it every day, how much money will you have after 30 days?\n",
    "\n",
    "(Without using `**`.)"
   ]
  },
  {
   "cell_type": "code",
   "execution_count": null,
   "id": "bea4f8e8-6eca-43b6-97c3-4cb588d500dc",
   "metadata": {},
   "outputs": [],
   "source": [
    "# Try to solve it here before using the next cell to show solutions.\n",
    "\n",
    "print(\"???\")"
   ]
  },
  {
   "cell_type": "markdown",
   "id": "b6f3d65d-2c90-4566-882a-cfb6463cfdea",
   "metadata": {},
   "source": [
    "<details>\n",
    "    <summary><b>Solution (do not peek!)</b></summary>\n",
    "\n",
    "```python\n",
    "\n",
    "money = 0.01\n",
    "\n",
    "for day in range(30):\n",
    "    money = money * 2\n",
    "\n",
    "money\n",
    "```\n",
    "    \n",
    "</details>"
   ]
  },
  {
   "cell_type": "markdown",
   "id": "22655800-b659-4fdb-ad0e-45dec06d96d5",
   "metadata": {},
   "source": [
    "<br><br><br>"
   ]
  },
  {
   "cell_type": "markdown",
   "id": "f8c82fb9-1e10-450c-815f-732c00c04c93",
   "metadata": {
    "jp-MarkdownHeadingCollapsed": true
   },
   "source": [
    "## Functions"
   ]
  },
  {
   "cell_type": "code",
   "execution_count": null,
   "id": "4b391a9e-c696-492b-a2d5-7e1a5fb33a98",
   "metadata": {},
   "outputs": [],
   "source": [
    "def quadratic_formula(a, b, c):\n",
    "    discriminant = b**2 - 4*a*c\n",
    "    \n",
    "    x_1 = -b + discriminant**0.5 / (2*a)\n",
    "    x_2 = -b - discriminant**0.5 / (2*a)\n",
    "\n",
    "    return x_1, x_2"
   ]
  },
  {
   "cell_type": "code",
   "execution_count": null,
   "id": "5400c4b3-5353-4a84-af04-c40edac2e2d7",
   "metadata": {},
   "outputs": [],
   "source": [
    "quadratic_formula(0.1, 1.2, 2.0)"
   ]
  },
  {
   "cell_type": "markdown",
   "id": "25f52ace-5076-4c8f-9f17-971e88c08328",
   "metadata": {},
   "source": [
    "<br><br><br>"
   ]
  },
  {
   "cell_type": "code",
   "execution_count": null,
   "id": "b34f5a1c-8d16-4d20-9f59-285fdd980614",
   "metadata": {},
   "outputs": [],
   "source": [
    "def compound_interest(principal, rate, num_periods):\n",
    "    money = principal\n",
    "\n",
    "    for period in range(num_periods):\n",
    "        money = money * rate\n",
    "\n",
    "    return money"
   ]
  },
  {
   "cell_type": "code",
   "execution_count": null,
   "id": "ec5c9529-81ac-4c33-99f3-433b2ffdd01a",
   "metadata": {},
   "outputs": [],
   "source": [
    "compound_interest(0.01, 2, 30)"
   ]
  },
  {
   "cell_type": "markdown",
   "id": "db085966-b26a-4064-9d2a-2ef087572415",
   "metadata": {},
   "source": [
    "<br><br><br>"
   ]
  },
  {
   "cell_type": "markdown",
   "id": "ce7abcdc-f951-445a-b43c-c28a3b76a330",
   "metadata": {
    "jp-MarkdownHeadingCollapsed": true
   },
   "source": [
    "## Importing functions"
   ]
  },
  {
   "cell_type": "code",
   "execution_count": null,
   "id": "5a1c0794-cfc6-4b9e-bdc9-7aba8df20544",
   "metadata": {},
   "outputs": [],
   "source": [
    "import math"
   ]
  },
  {
   "cell_type": "code",
   "execution_count": null,
   "id": "a8075f77-d305-498a-9f19-592a72d66f8e",
   "metadata": {},
   "outputs": [],
   "source": [
    "math.sqrt"
   ]
  },
  {
   "cell_type": "code",
   "execution_count": null,
   "id": "cdb98c14-8687-4a0e-a4c9-6b00514dc609",
   "metadata": {},
   "outputs": [],
   "source": [
    "a = 0.1\n",
    "b = 1.2\n",
    "c = 2.0\n",
    "\n",
    "x_1 = -b + math.sqrt((b**2 - 4*a*c)) / (2*a)\n",
    "x_2 = -b - math.sqrt((b**2 - 4*a*c)) / (2*a)"
   ]
  },
  {
   "cell_type": "markdown",
   "id": "2e4eb6e3-d0d8-4e83-bf8e-43da2c587d9d",
   "metadata": {},
   "source": [
    "<br><br><br>"
   ]
  },
  {
   "cell_type": "code",
   "execution_count": null,
   "id": "b3f5705f-067d-4fed-9ee3-a7d4c25041ed",
   "metadata": {},
   "outputs": [],
   "source": [
    "0.01 * 2**30"
   ]
  },
  {
   "cell_type": "code",
   "execution_count": null,
   "id": "a19b8331-71e1-4780-a838-19c160a8ba3f",
   "metadata": {},
   "outputs": [],
   "source": [
    "0.01 * math.pow(2, 30)"
   ]
  },
  {
   "cell_type": "markdown",
   "id": "0881e254-2a4c-4535-8092-9695b14f9460",
   "metadata": {},
   "source": [
    "<br><br><br>"
   ]
  },
  {
   "cell_type": "markdown",
   "id": "76ed449a-6238-4e04-bfe3-902702b82db7",
   "metadata": {
    "jp-MarkdownHeadingCollapsed": true
   },
   "source": [
    "## Data types"
   ]
  },
  {
   "cell_type": "code",
   "execution_count": null,
   "id": "e160be7b-38ee-4332-89df-679930d36dc0",
   "metadata": {},
   "outputs": [],
   "source": [
    "type(123)"
   ]
  },
  {
   "cell_type": "code",
   "execution_count": null,
   "id": "af9c48b6-3fe8-4594-a3b2-6b3628a2adaf",
   "metadata": {},
   "outputs": [],
   "source": [
    "type(3.14)"
   ]
  },
  {
   "cell_type": "code",
   "execution_count": null,
   "id": "15f70b6f-f354-46b1-a477-c8c6edd67c9f",
   "metadata": {},
   "outputs": [],
   "source": [
    "type(\"hello\")"
   ]
  },
  {
   "cell_type": "code",
   "execution_count": null,
   "id": "839c796e-c1b9-4bdb-a686-eb3d9c8eee09",
   "metadata": {},
   "outputs": [],
   "source": [
    "type(True)"
   ]
  },
  {
   "cell_type": "markdown",
   "id": "89166ad4-d459-4c23-93f7-7a78a05ab0b0",
   "metadata": {},
   "source": [
    "<br><br><br>"
   ]
  },
  {
   "cell_type": "code",
   "execution_count": null,
   "id": "aefafdf8-9137-4f20-b46a-a46b3b6283a2",
   "metadata": {},
   "outputs": [],
   "source": [
    "type(quadratic_formula)"
   ]
  },
  {
   "cell_type": "code",
   "execution_count": null,
   "id": "c7e17cd6-d2af-4746-b15e-09ba26107655",
   "metadata": {},
   "outputs": [],
   "source": [
    "type(math.sqrt)"
   ]
  },
  {
   "cell_type": "markdown",
   "id": "35581765-f146-4ccc-bc51-a66f2b395a1b",
   "metadata": {},
   "source": [
    "<br><br><br>"
   ]
  },
  {
   "cell_type": "code",
   "execution_count": null,
   "id": "38712dd4-4766-4ca2-8e5d-4b81a97b8b0c",
   "metadata": {
    "editable": true,
    "slideshow": {
     "slide_type": ""
    },
    "tags": [
     "raises-exception"
    ]
   },
   "outputs": [],
   "source": [
    "1 + \"2\""
   ]
  },
  {
   "cell_type": "code",
   "execution_count": null,
   "id": "0b9e7c92-4d90-4f58-978f-40befb339abb",
   "metadata": {},
   "outputs": [],
   "source": [
    "1 + True"
   ]
  },
  {
   "cell_type": "markdown",
   "id": "dfda40e1-b2c0-4910-9153-bc10b7d1250d",
   "metadata": {},
   "source": [
    "<br><br><br>"
   ]
  },
  {
   "cell_type": "code",
   "execution_count": null,
   "id": "00505de4-1c48-48b3-9679-62c0fa001485",
   "metadata": {},
   "outputs": [],
   "source": [
    "isinstance(123, int)"
   ]
  },
  {
   "cell_type": "code",
   "execution_count": null,
   "id": "07efcdab-ff74-49db-93ce-5e5c2ac000a4",
   "metadata": {},
   "outputs": [],
   "source": [
    "isinstance(True, int)"
   ]
  },
  {
   "cell_type": "code",
   "execution_count": null,
   "id": "e813d339-988c-4666-8349-f936ee295377",
   "metadata": {},
   "outputs": [],
   "source": [
    "isinstance(3.14, int)"
   ]
  },
  {
   "cell_type": "code",
   "execution_count": null,
   "id": "cfa5d050-bd83-4604-ae3a-420790e8ff05",
   "metadata": {},
   "outputs": [],
   "source": [
    "isinstance(\"2\", int)"
   ]
  },
  {
   "cell_type": "markdown",
   "id": "1764c3bd-8954-469d-a322-71317aea3630",
   "metadata": {},
   "source": [
    "<br><br><br>"
   ]
  },
  {
   "cell_type": "code",
   "execution_count": null,
   "id": "b2a7e2f3-fec5-4a09-bab8-951a0188dbcc",
   "metadata": {},
   "outputs": [],
   "source": [
    "issubclass(bool, int)"
   ]
  },
  {
   "cell_type": "code",
   "execution_count": null,
   "id": "c922d16b-fdeb-4342-86db-c6e4eb6f83de",
   "metadata": {},
   "outputs": [],
   "source": [
    "issubclass(int, float)"
   ]
  },
  {
   "cell_type": "markdown",
   "id": "c6f32cde-087d-443f-ab87-a17f3d5255fc",
   "metadata": {},
   "source": [
    "<br><br><br>"
   ]
  },
  {
   "cell_type": "markdown",
   "id": "f030368b-b085-43e1-8a65-35b3c8554a2a",
   "metadata": {
    "jp-MarkdownHeadingCollapsed": true
   },
   "source": [
    "## Collection types"
   ]
  },
  {
   "cell_type": "code",
   "execution_count": null,
   "id": "90b21232-a9ba-413a-aac8-ccabc2c95dfb",
   "metadata": {},
   "outputs": [],
   "source": [
    "some_list = [0.0, 1.1, 2.2, 3.3, 4.4, 5.5, 6.6, 7.7, 8.8, 9.9]\n",
    "some_list"
   ]
  },
  {
   "cell_type": "code",
   "execution_count": null,
   "id": "430afe39-b741-474b-8bd8-1016c57e37e4",
   "metadata": {},
   "outputs": [],
   "source": [
    "type(some_list)"
   ]
  },
  {
   "cell_type": "code",
   "execution_count": null,
   "id": "2aa5061b-b9d2-46a7-9d01-52285d0c89d4",
   "metadata": {},
   "outputs": [],
   "source": [
    "len(some_list)"
   ]
  },
  {
   "cell_type": "markdown",
   "id": "499d27b7-ad28-494c-a38a-0b28b785e2c6",
   "metadata": {},
   "source": [
    "<br><br><br>"
   ]
  },
  {
   "cell_type": "code",
   "execution_count": null,
   "id": "b57d97ac-bc09-4f58-aaf6-de4d814568a6",
   "metadata": {},
   "outputs": [],
   "source": [
    "some_dict = {\"one\": 1.1, \"two\": 2.2, \"three\": 3.3}\n",
    "some_dict"
   ]
  },
  {
   "cell_type": "code",
   "execution_count": null,
   "id": "b5ef9b9d-2eb0-4f37-878d-bc5323eeb326",
   "metadata": {},
   "outputs": [],
   "source": [
    "type(some_dict)"
   ]
  },
  {
   "cell_type": "code",
   "execution_count": null,
   "id": "18115710-433b-43ba-884e-04da6bdcd03b",
   "metadata": {},
   "outputs": [],
   "source": [
    "len(some_dict)"
   ]
  },
  {
   "cell_type": "markdown",
   "id": "25377527-1639-40dd-b2f3-870a87020ad0",
   "metadata": {},
   "source": [
    "<br><br><br>"
   ]
  },
  {
   "cell_type": "code",
   "execution_count": null,
   "id": "7d0ab309-30a3-43ba-9f9c-fe8ef9034eb9",
   "metadata": {},
   "outputs": [],
   "source": [
    "some_list[2]"
   ]
  },
  {
   "cell_type": "code",
   "execution_count": null,
   "id": "712b45c5-b168-4295-901a-62fc2e67b11e",
   "metadata": {},
   "outputs": [],
   "source": [
    "some_dict[\"two\"]"
   ]
  },
  {
   "cell_type": "markdown",
   "id": "1d424205-478f-449e-90d8-a0a5a3b6fa3b",
   "metadata": {},
   "source": [
    "<br><br><br>"
   ]
  },
  {
   "cell_type": "code",
   "execution_count": null,
   "id": "6dbb5ef4-27a3-4d2e-9a01-d10e768e6dc4",
   "metadata": {},
   "outputs": [],
   "source": [
    "some_list[2] = 222"
   ]
  },
  {
   "cell_type": "code",
   "execution_count": null,
   "id": "f9d8f996-ba8d-48ad-8f85-13a93cff8de2",
   "metadata": {},
   "outputs": [],
   "source": [
    "some_list"
   ]
  },
  {
   "cell_type": "markdown",
   "id": "5ad5cc37-2743-48fa-aab4-ca21674b0947",
   "metadata": {},
   "source": [
    "<br><br><br>"
   ]
  },
  {
   "cell_type": "code",
   "execution_count": null,
   "id": "a3304bef-b2f0-45fe-8ff5-894be4d6d42d",
   "metadata": {},
   "outputs": [],
   "source": [
    "some_dict[\"two\"] = 222"
   ]
  },
  {
   "cell_type": "code",
   "execution_count": null,
   "id": "41aa9f07-0c60-47be-9282-f9ee7dc2d8bd",
   "metadata": {},
   "outputs": [],
   "source": [
    "some_dict"
   ]
  },
  {
   "cell_type": "markdown",
   "id": "347764db-a453-486b-bdfb-76f93ca6be39",
   "metadata": {},
   "source": [
    "<br><br><br>"
   ]
  },
  {
   "cell_type": "code",
   "execution_count": null,
   "id": "2d4fa4be-8295-40ce-9623-f603e27e9d96",
   "metadata": {},
   "outputs": [],
   "source": [
    "some_list.append(\"mixed types\")"
   ]
  },
  {
   "cell_type": "code",
   "execution_count": null,
   "id": "592dec6e-f5ed-4c2a-bcfe-c4f52ff31d0d",
   "metadata": {},
   "outputs": [],
   "source": [
    "some_list"
   ]
  },
  {
   "cell_type": "markdown",
   "id": "cb027ba8-0b40-4b77-af94-08d2a1dc1adb",
   "metadata": {},
   "source": [
    "<br><br><br>"
   ]
  },
  {
   "cell_type": "code",
   "execution_count": null,
   "id": "f4c873d9-04d4-435d-bb48-ddb8ff02090f",
   "metadata": {},
   "outputs": [],
   "source": [
    "some_dict[123] = \"mixed types\""
   ]
  },
  {
   "cell_type": "code",
   "execution_count": null,
   "id": "2b3828ef-2737-44a7-b870-71a2e30f78a0",
   "metadata": {},
   "outputs": [],
   "source": [
    "some_dict"
   ]
  },
  {
   "cell_type": "markdown",
   "id": "9b1fc4f2-e9b2-4043-8415-d3c79b6c20e8",
   "metadata": {},
   "source": [
    "<br><br><br>"
   ]
  },
  {
   "cell_type": "code",
   "execution_count": null,
   "id": "4adb2de1-98f9-4c77-95d4-1d66b3a3c906",
   "metadata": {},
   "outputs": [],
   "source": [
    "for x in some_list:\n",
    "    print(x)"
   ]
  },
  {
   "cell_type": "code",
   "execution_count": null,
   "id": "98f666dc-aca1-434a-b20a-80866fb25f48",
   "metadata": {},
   "outputs": [],
   "source": [
    "for x in some_dict:\n",
    "    print(x)"
   ]
  },
  {
   "cell_type": "markdown",
   "id": "bc65a90c-c15c-47cc-8066-8ea0cbf66b62",
   "metadata": {},
   "source": [
    "<br><br><br>"
   ]
  },
  {
   "cell_type": "code",
   "execution_count": null,
   "id": "83553c18-37ef-4fae-bc15-4f749751d1e7",
   "metadata": {},
   "outputs": [],
   "source": [
    "for key in some_dict.keys():\n",
    "    print(key)"
   ]
  },
  {
   "cell_type": "code",
   "execution_count": null,
   "id": "f4dcc160-2a79-470d-aa81-f204c642d17d",
   "metadata": {},
   "outputs": [],
   "source": [
    "for value in some_dict.values():\n",
    "    print(value)"
   ]
  },
  {
   "cell_type": "code",
   "execution_count": null,
   "id": "75fcb14c-922b-413d-ad60-3cb84f253f4d",
   "metadata": {},
   "outputs": [],
   "source": [
    "for key, value in some_dict.items():\n",
    "    print(key, \"   ->   \", value)"
   ]
  },
  {
   "cell_type": "markdown",
   "id": "a589fe0e-c7fb-41db-9fa1-f3a366709ae1",
   "metadata": {},
   "source": [
    "<br><br><br>"
   ]
  },
  {
   "cell_type": "code",
   "execution_count": null,
   "id": "8e30ce20-5f72-4fe5-9501-b94684605dee",
   "metadata": {},
   "outputs": [],
   "source": [
    "some_list[2:8]"
   ]
  },
  {
   "cell_type": "markdown",
   "id": "ea5619c8-71d7-4772-a226-ba86df42d8fd",
   "metadata": {
    "editable": true,
    "slideshow": {
     "slide_type": ""
    },
    "tags": []
   },
   "source": [
    "<br><br><br>"
   ]
  },
  {
   "cell_type": "markdown",
   "id": "2cfd8aca-a725-4421-a60d-e72979c145bf",
   "metadata": {},
   "source": [
    "**Exercise:** Before running the next cell, what will it do?"
   ]
  },
  {
   "cell_type": "code",
   "execution_count": null,
   "id": "bc75c518-1eef-4850-b3ca-2a46490ee1db",
   "metadata": {},
   "outputs": [],
   "source": [
    "some_list[2:8][3]"
   ]
  },
  {
   "cell_type": "markdown",
   "id": "c86ace91-b438-4815-aefc-d2793648eb62",
   "metadata": {},
   "source": [
    "<br><br><br>"
   ]
  },
  {
   "cell_type": "markdown",
   "id": "5743fda3-b4b5-4743-8f9c-0360b17ba734",
   "metadata": {},
   "source": [
    "Negative numbers slice from the other end of the list:"
   ]
  },
  {
   "cell_type": "code",
   "execution_count": null,
   "id": "c71ff21b-ec6d-4c7a-8f85-cafc8c62e1b2",
   "metadata": {},
   "outputs": [],
   "source": [
    "numbers = [0.0, 1.1, 2.2, 3.3, 4.4, 5.5, 6.6, 7.7, 8.8, 9.9]"
   ]
  },
  {
   "cell_type": "code",
   "execution_count": null,
   "id": "94c28dc1-0b26-445b-8b3c-4741ec639a74",
   "metadata": {},
   "outputs": [],
   "source": [
    "numbers[:-1]"
   ]
  },
  {
   "cell_type": "code",
   "execution_count": null,
   "id": "53fc1016-4bfb-43f6-b0ab-934346232c8d",
   "metadata": {},
   "outputs": [],
   "source": [
    "numbers[:-2]"
   ]
  },
  {
   "cell_type": "code",
   "execution_count": null,
   "id": "14c30627-85b0-46b3-a33f-2b4997e8fe84",
   "metadata": {},
   "outputs": [],
   "source": [
    "numbers[:-3]"
   ]
  },
  {
   "cell_type": "markdown",
   "id": "fd0b19a5-f54c-4d89-a341-6d4ad3571c65",
   "metadata": {},
   "source": [
    "<br><br><br>"
   ]
  },
  {
   "cell_type": "code",
   "execution_count": null,
   "id": "dfbce9b8-a47a-4972-bd7d-e7abce33fa0e",
   "metadata": {},
   "outputs": [],
   "source": [
    "for i in range(6):\n",
    "    print(numbers[ i : -(i + 1) ])"
   ]
  },
  {
   "cell_type": "markdown",
   "id": "e368b8d8-c318-4a25-98b9-093f588cf0ce",
   "metadata": {},
   "source": [
    "<br><br><br>"
   ]
  },
  {
   "cell_type": "markdown",
   "id": "b69c184e-76f3-4ba4-9ad1-dd764e944379",
   "metadata": {
    "jp-MarkdownHeadingCollapsed": true
   },
   "source": [
    "## Arrays (NumPy)"
   ]
  },
  {
   "cell_type": "markdown",
   "id": "670f057b-5bdf-462f-b21b-6ed7e669850e",
   "metadata": {},
   "source": [
    "<img src=\"img/numpy-logo.svg\" width=\"350\">"
   ]
  },
  {
   "cell_type": "code",
   "execution_count": null,
   "id": "df348068-2778-43ff-a300-77dfd0a499d4",
   "metadata": {},
   "outputs": [],
   "source": [
    "import numpy as np"
   ]
  },
  {
   "cell_type": "code",
   "execution_count": null,
   "id": "46a6f023-9fc1-4e37-9585-f0d48a01e779",
   "metadata": {},
   "outputs": [],
   "source": [
    "some_array = np.array([0.0, 1.1, 2.2, 3.3, 4.4, 5.5, 6.6, 7.7, 8.8, 9.9])\n",
    "some_array"
   ]
  },
  {
   "cell_type": "code",
   "execution_count": null,
   "id": "59437b3a-fb4b-4a61-963a-16e08be4ef78",
   "metadata": {},
   "outputs": [],
   "source": [
    "type(some_array)"
   ]
  },
  {
   "cell_type": "code",
   "execution_count": null,
   "id": "e3819483-0510-49ed-8586-05dd1658978b",
   "metadata": {},
   "outputs": [],
   "source": [
    "len(some_array)"
   ]
  },
  {
   "cell_type": "markdown",
   "id": "9d863abb-1976-426f-bf80-efc548dcd863",
   "metadata": {},
   "source": [
    "<br><br><br>"
   ]
  },
  {
   "cell_type": "code",
   "execution_count": null,
   "id": "12cdf463-5772-4bc5-8ce1-05ae08c10703",
   "metadata": {},
   "outputs": [],
   "source": [
    "some_array[2]"
   ]
  },
  {
   "cell_type": "code",
   "execution_count": null,
   "id": "2bca2f16-021f-4cab-87ab-afd03e9790a1",
   "metadata": {},
   "outputs": [],
   "source": [
    "some_array[2] = 222"
   ]
  },
  {
   "cell_type": "code",
   "execution_count": null,
   "id": "af0b4c63-aa3a-4782-b2b1-a172a3e9baa3",
   "metadata": {},
   "outputs": [],
   "source": [
    "some_array"
   ]
  },
  {
   "cell_type": "code",
   "execution_count": null,
   "id": "fdefd7f9-1263-448a-98ea-0ae963823833",
   "metadata": {
    "editable": true,
    "slideshow": {
     "slide_type": ""
    },
    "tags": []
   },
   "outputs": [],
   "source": [
    "some_array[2:8]"
   ]
  },
  {
   "cell_type": "markdown",
   "id": "86d5dcf8-92cd-478c-a6c4-b737b4d8ed40",
   "metadata": {},
   "source": [
    "<br><br><br>"
   ]
  },
  {
   "cell_type": "code",
   "execution_count": null,
   "id": "a1e86c2b-df00-4581-b069-f1796bfc61de",
   "metadata": {
    "editable": true,
    "slideshow": {
     "slide_type": ""
    },
    "tags": [
     "raises-exception"
    ]
   },
   "outputs": [],
   "source": [
    "some_array[2] = \"mixed types\""
   ]
  },
  {
   "cell_type": "markdown",
   "id": "02ead6cf-26bf-4559-98b3-ca20424b9109",
   "metadata": {
    "editable": true,
    "slideshow": {
     "slide_type": ""
    },
    "tags": []
   },
   "source": [
    "<br><br><br>"
   ]
  },
  {
   "cell_type": "code",
   "execution_count": null,
   "id": "7691e41c-bcaa-4e73-b3e8-4496caf8302f",
   "metadata": {
    "editable": true,
    "slideshow": {
     "slide_type": ""
    },
    "tags": [
     "raises-exception"
    ]
   },
   "outputs": [],
   "source": [
    "some_array.append(999)"
   ]
  },
  {
   "cell_type": "markdown",
   "id": "f4991067-4432-4bf2-b90e-ce8f6e9b5a5a",
   "metadata": {
    "editable": true,
    "slideshow": {
     "slide_type": ""
    },
    "tags": []
   },
   "source": [
    "<br><br><br>"
   ]
  },
  {
   "cell_type": "code",
   "execution_count": null,
   "id": "279f30fb-eb73-43a4-93b1-b2a60cdc01e4",
   "metadata": {},
   "outputs": [],
   "source": [
    "big_2d_array = np.random.randint(0, 100, (2000, 2000))\n",
    "big_2d_array"
   ]
  },
  {
   "cell_type": "markdown",
   "id": "4d50864a-9bc1-4755-adf5-9f9461d4c620",
   "metadata": {},
   "source": [
    "<br><br><br>"
   ]
  },
  {
   "cell_type": "code",
   "execution_count": null,
   "id": "b635d3f3-e04e-4045-86f7-4783040d22da",
   "metadata": {},
   "outputs": [],
   "source": [
    "big_2d_array[2, :]"
   ]
  },
  {
   "cell_type": "code",
   "execution_count": null,
   "id": "06685dd9-4e9e-4d61-8a86-b96cd3b02d61",
   "metadata": {},
   "outputs": [],
   "source": [
    "big_2d_array[:, 2]"
   ]
  },
  {
   "cell_type": "code",
   "execution_count": null,
   "id": "f0032092-3c0b-49a8-b982-34adad5631d2",
   "metadata": {},
   "outputs": [],
   "source": [
    "big_2d_array[0:3, 0:3]"
   ]
  },
  {
   "cell_type": "code",
   "execution_count": null,
   "id": "3cea0095-6102-4622-ada2-71d40524eac2",
   "metadata": {},
   "outputs": [],
   "source": [
    "big_2d_array[-3:, -3:]"
   ]
  },
  {
   "cell_type": "markdown",
   "id": "d46cdd1e-0f6c-40b5-b3cf-ed94baf04feb",
   "metadata": {},
   "source": [
    "<br><br><br>"
   ]
  },
  {
   "cell_type": "code",
   "execution_count": null,
   "id": "62d2ea10-c291-428d-b3d1-398c3e373282",
   "metadata": {},
   "outputs": [],
   "source": [
    "small_2d_array = np.array([\n",
    "    [  1,   2,   3,   4,   5],\n",
    "    [ 10,  20,  30,  40,  50],\n",
    "    [100, 200, 300, 400, 500],\n",
    "])"
   ]
  },
  {
   "cell_type": "code",
   "execution_count": null,
   "id": "6bf52a9f-ed12-45bd-ad93-e4a4334be309",
   "metadata": {},
   "outputs": [],
   "source": [
    "np.sum(small_2d_array)"
   ]
  },
  {
   "cell_type": "code",
   "execution_count": null,
   "id": "93520257-a727-4e44-8208-ab06e7ba38b8",
   "metadata": {},
   "outputs": [],
   "source": [
    "np.sum(small_2d_array, axis=0)"
   ]
  },
  {
   "cell_type": "code",
   "execution_count": null,
   "id": "54e85bcd-45be-440b-a83b-c1653f755a98",
   "metadata": {},
   "outputs": [],
   "source": [
    "np.sum(small_2d_array, axis=1)"
   ]
  },
  {
   "cell_type": "markdown",
   "id": "5354ee3b-762a-4bd4-bfd6-f9cbf3662131",
   "metadata": {},
   "source": [
    "<br><br><br>"
   ]
  },
  {
   "cell_type": "code",
   "execution_count": null,
   "id": "b91c6d30-f638-44d0-bece-e96af49b3691",
   "metadata": {},
   "outputs": [],
   "source": [
    "array1 = np.array([ 1,  2,  3,  4,  5])\n",
    "array2 = np.array([10, 20, 30, 40, 50])"
   ]
  },
  {
   "cell_type": "code",
   "execution_count": null,
   "id": "407c5bac-ea4e-4cb8-8202-bbf5aa0737c8",
   "metadata": {},
   "outputs": [],
   "source": [
    "array1 + array2"
   ]
  },
  {
   "cell_type": "code",
   "execution_count": null,
   "id": "a14f8bd1-0a8f-4dd7-8f94-4d3085e37d8a",
   "metadata": {},
   "outputs": [],
   "source": [
    "array1 * array2"
   ]
  },
  {
   "cell_type": "markdown",
   "id": "068e579e-8923-4384-a201-2da55d6746ff",
   "metadata": {},
   "source": [
    "<br><br><br>"
   ]
  },
  {
   "cell_type": "code",
   "execution_count": null,
   "id": "2cda3424-a058-49ae-8a99-c464b38ce3d3",
   "metadata": {},
   "outputs": [],
   "source": [
    "a = np.random.uniform(5, 10, 1000000)\n",
    "b = np.random.uniform(10, 20, 1000000)\n",
    "c = np.random.uniform(-0.1, 0.1, 1000000)"
   ]
  },
  {
   "cell_type": "code",
   "execution_count": null,
   "id": "b9f043dc-9c51-4a45-a4f4-30ab099ae958",
   "metadata": {},
   "outputs": [],
   "source": [
    "a"
   ]
  },
  {
   "cell_type": "code",
   "execution_count": null,
   "id": "04f3ab04-a69f-494a-bf1d-7bb099f7a14a",
   "metadata": {},
   "outputs": [],
   "source": [
    "b"
   ]
  },
  {
   "cell_type": "code",
   "execution_count": null,
   "id": "0a285430-9d86-4639-ae69-ee9368715cfe",
   "metadata": {},
   "outputs": [],
   "source": [
    "c"
   ]
  },
  {
   "cell_type": "code",
   "execution_count": null,
   "id": "919b1ae1-cb75-4ec8-87fb-e217b31def31",
   "metadata": {},
   "outputs": [],
   "source": [
    "quadratic_formula(a, b, c)"
   ]
  },
  {
   "cell_type": "markdown",
   "id": "a43001ab-78d1-42bc-8626-037eeed3b6a4",
   "metadata": {},
   "source": [
    "<br><br><br>"
   ]
  },
  {
   "cell_type": "code",
   "execution_count": null,
   "id": "61982396-e476-4eee-9564-9fc8c8953adf",
   "metadata": {},
   "outputs": [],
   "source": [
    "-b + np.sqrt(b**2 - 4*a*c) / (2*a)"
   ]
  },
  {
   "cell_type": "markdown",
   "id": "3654ed79-10e5-4323-8bb8-5be68f7d9416",
   "metadata": {},
   "source": [
    "<br><br><br>"
   ]
  },
  {
   "cell_type": "markdown",
   "id": "b0b281f0-cca4-491b-bc58-16a02aed1ed0",
   "metadata": {},
   "source": [
    "**Exercise:** Compute the differences between consecutive elements:"
   ]
  },
  {
   "cell_type": "code",
   "execution_count": null,
   "id": "f163cbad-58c3-4314-a16b-1c036515af12",
   "metadata": {},
   "outputs": [],
   "source": [
    "array = np.array([1.1, 2.2, 3.3, 4.4, 5.5, 6.6, 7.7, 8.8, 9.9])\n",
    "array"
   ]
  },
  {
   "cell_type": "markdown",
   "id": "f4b052e3-deb8-4efc-b089-71307624765d",
   "metadata": {},
   "source": [
    "<details>\n",
    "    <summary><b>Hint!</b></summary>\n",
    "\n",
    "<img src=\"img/flat-operation.svg\" width=\"400\">\n",
    "<img src=\"img/shifted-operation.svg\" width=\"400\">\n",
    "\n",
    "</details>"
   ]
  },
  {
   "cell_type": "code",
   "execution_count": null,
   "id": "ce664643-c817-4e59-bee7-a5aa75b839bd",
   "metadata": {},
   "outputs": [],
   "source": [
    "# Try to solve it here before using the next cell to show solutions.\n",
    "\n",
    "print(\"???\")"
   ]
  },
  {
   "cell_type": "markdown",
   "id": "60264b3c-340f-4806-8200-1f0623a9023d",
   "metadata": {
    "editable": true,
    "slideshow": {
     "slide_type": ""
    },
    "tags": []
   },
   "source": [
    "<details>\n",
    "    <summary><b>Solution (do not peek!)</b></summary>\n",
    "\n",
    "```python\n",
    "\n",
    "array[1:] - array[:-1]\n",
    "```\n",
    "    \n",
    "</details>"
   ]
  },
  {
   "cell_type": "markdown",
   "id": "83e36396-7858-4e5f-b688-35e5986233da",
   "metadata": {},
   "source": [
    "<br><br><br>"
   ]
  },
  {
   "cell_type": "code",
   "execution_count": null,
   "id": "ab0e0062-4289-4b36-a5f3-1909a4076de4",
   "metadata": {},
   "outputs": [],
   "source": [
    "array > 4"
   ]
  },
  {
   "cell_type": "markdown",
   "id": "e87075f0-b977-4bc9-a45c-afdf67d6ecff",
   "metadata": {},
   "source": [
    "<br><br><br>"
   ]
  },
  {
   "cell_type": "code",
   "execution_count": null,
   "id": "53305457-8851-467b-a2ef-141b47bb554c",
   "metadata": {},
   "outputs": [],
   "source": [
    "array[array > 4]"
   ]
  },
  {
   "cell_type": "markdown",
   "id": "2fcd1fe6-69d0-4ff2-a080-d69d8a514054",
   "metadata": {},
   "source": [
    "<br><br><br>"
   ]
  },
  {
   "cell_type": "code",
   "execution_count": null,
   "id": "b64c0ac0-f4ea-4c94-b067-d89f612854df",
   "metadata": {},
   "outputs": [],
   "source": [
    "random_numbers = np.random.normal(0, 1, 10000)\n",
    "random_numbers"
   ]
  },
  {
   "cell_type": "code",
   "execution_count": null,
   "id": "1af80b01-9e51-4417-a269-8f82ca5d109a",
   "metadata": {},
   "outputs": [],
   "source": [
    "np.sqrt(random_numbers)"
   ]
  },
  {
   "cell_type": "markdown",
   "id": "5e1529de-091d-4123-8e3f-4d3864588298",
   "metadata": {},
   "source": [
    "<br><br><br>"
   ]
  },
  {
   "cell_type": "markdown",
   "id": "86de042c-becb-4556-8ee0-ee8e8cddeb23",
   "metadata": {},
   "source": [
    "**Exercise:** Take the square root of only the _non-negative_ numbers in `random_numbers`."
   ]
  },
  {
   "cell_type": "code",
   "execution_count": null,
   "id": "b2f6327f-5307-48c8-9636-a1003581fb82",
   "metadata": {},
   "outputs": [],
   "source": [
    "# Try to solve it here before using the next cell to show solutions.\n",
    "\n",
    "print(\"???\")"
   ]
  },
  {
   "cell_type": "markdown",
   "id": "440efd6c-c103-4316-9856-4c1da11b99c6",
   "metadata": {
    "jp-MarkdownHeadingCollapsed": true
   },
   "source": [
    "<details>\n",
    "    <summary><b>Solution (do not peek!)</b></summary>\n",
    "\n",
    "```python\n",
    "\n",
    "np.sqrt(random_numbers[random_numbers >= 0])\n",
    "```\n",
    "    \n",
    "</details>"
   ]
  },
  {
   "cell_type": "markdown",
   "id": "bbbd43aa-246b-4b5e-a5b1-8b9f50d14a0a",
   "metadata": {},
   "source": [
    "<br><br><br>"
   ]
  },
  {
   "cell_type": "markdown",
   "id": "614c552f-670c-4d78-bf15-2ccb0d9ed9a0",
   "metadata": {
    "editable": true,
    "jp-MarkdownHeadingCollapsed": true,
    "slideshow": {
     "slide_type": ""
    },
    "tags": []
   },
   "source": [
    "## Data frames (Pandas)"
   ]
  },
  {
   "cell_type": "markdown",
   "id": "d1ea67e5-8766-4bd3-9efe-5f32152258e0",
   "metadata": {},
   "source": [
    "<img src=\"img/pandas-logo.svg\" width=\"350\">"
   ]
  },
  {
   "cell_type": "code",
   "execution_count": null,
   "id": "e8d1356f-d709-4b44-8a40-f9d2c4f0f62e",
   "metadata": {},
   "outputs": [],
   "source": [
    "import pandas as pd"
   ]
  },
  {
   "cell_type": "code",
   "execution_count": null,
   "id": "770de36a-a998-4279-b9c7-6630c1cd9488",
   "metadata": {},
   "outputs": [],
   "source": [
    "df = pd.DataFrame({\n",
    "    \"integers\": [0, 1, 2, 3, 4, 5, 6, 7, 8, 9],\n",
    "    \"reals\": [0.0, 1.1, 2.2, 3.3, 4.4, 5.5, 6.6, 7.7, 8.8, 9.9],\n",
    "    \"strings\": [\"zero\", \"one\", \"two\", \"three\", \"four\", \"five\", \"six\", \"seven\", \"eight\", \"nine\"],\n",
    "})\n",
    "df"
   ]
  },
  {
   "cell_type": "code",
   "execution_count": null,
   "id": "e1120546-bcb8-4e90-b2d7-6503519aae25",
   "metadata": {},
   "outputs": [],
   "source": [
    "type(df)"
   ]
  },
  {
   "cell_type": "code",
   "execution_count": null,
   "id": "015c8991-8c61-4c89-be66-b6e45583e7d8",
   "metadata": {},
   "outputs": [],
   "source": [
    "len(df)"
   ]
  },
  {
   "cell_type": "code",
   "execution_count": null,
   "id": "8e2c874b-302a-4313-8454-5f9eca8fe3fc",
   "metadata": {},
   "outputs": [],
   "source": [
    "df.columns"
   ]
  },
  {
   "cell_type": "code",
   "execution_count": null,
   "id": "852c264f-a528-4d45-b6f2-ca0284591a91",
   "metadata": {},
   "outputs": [],
   "source": [
    "df.index"
   ]
  },
  {
   "cell_type": "markdown",
   "id": "350efaa5-c674-4514-b3c4-db28e0f089fc",
   "metadata": {},
   "source": [
    "<br><br><br>"
   ]
  },
  {
   "cell_type": "code",
   "execution_count": null,
   "id": "3042c6d7-27dc-49dc-9218-ea62c47d1cc9",
   "metadata": {},
   "outputs": [],
   "source": [
    "df.loc[2]"
   ]
  },
  {
   "cell_type": "markdown",
   "id": "67aecf17-df30-47c0-aa2c-a63e2c915fb0",
   "metadata": {},
   "source": [
    "<br><br><br>"
   ]
  },
  {
   "cell_type": "code",
   "execution_count": null,
   "id": "33c8f971-dfb5-41d8-a39e-f25d1702b36a",
   "metadata": {},
   "outputs": [],
   "source": [
    "df.loc[2:8]"
   ]
  },
  {
   "cell_type": "markdown",
   "id": "9aaa6a92-4681-4075-a30b-8f0cb68d075d",
   "metadata": {},
   "source": [
    "<br><br><br>"
   ]
  },
  {
   "cell_type": "code",
   "execution_count": null,
   "id": "8b98a89b-c4d7-431b-b80d-8e6b8f51dd4f",
   "metadata": {},
   "outputs": [],
   "source": [
    "df[\"reals\"]"
   ]
  },
  {
   "cell_type": "markdown",
   "id": "e6e9068c-b721-4184-bbdc-60929a19595a",
   "metadata": {},
   "source": [
    "<br><br><br>"
   ]
  },
  {
   "cell_type": "code",
   "execution_count": null,
   "id": "b1f42d3b-c3d5-4ae9-a264-bf7f82355a0c",
   "metadata": {},
   "outputs": [],
   "source": [
    "df[[\"reals\", \"strings\"]].loc[2:8]"
   ]
  },
  {
   "cell_type": "markdown",
   "id": "3649c8f8-eb99-4fe8-b2a7-dd021c77238b",
   "metadata": {},
   "source": [
    "<br><br><br>"
   ]
  },
  {
   "cell_type": "code",
   "execution_count": null,
   "id": "70d7b73b-f0cb-4f40-b2cc-d267bd5decef",
   "metadata": {},
   "outputs": [],
   "source": [
    "np.sqrt(df[[\"integers\", \"reals\"]])"
   ]
  },
  {
   "cell_type": "markdown",
   "id": "889f515f-168a-415e-8c44-b403e842cbc8",
   "metadata": {},
   "source": [
    "<br><br><br>"
   ]
  },
  {
   "cell_type": "code",
   "execution_count": null,
   "id": "0a77e9ce-9990-46af-a80a-7352d2fbb555",
   "metadata": {},
   "outputs": [],
   "source": [
    "df[\"integers\"].values"
   ]
  },
  {
   "cell_type": "code",
   "execution_count": null,
   "id": "07252f37-9847-4464-80fd-2c46b445b7a8",
   "metadata": {},
   "outputs": [],
   "source": [
    "type(df[\"integers\"].values)"
   ]
  },
  {
   "cell_type": "markdown",
   "id": "22c54280-fbfe-484b-a90a-fdfaaf4fabcf",
   "metadata": {},
   "source": [
    "<br><br><br>"
   ]
  },
  {
   "cell_type": "code",
   "execution_count": null,
   "id": "f2f3783c-46b8-4fc6-b3f7-278bb17091f4",
   "metadata": {},
   "outputs": [],
   "source": [
    "another_df = pd.DataFrame(\n",
    "    {\n",
    "        \"more integers\": [20, 30, 40, 50],\n",
    "        \"more reals\": [22.2, 33.3, 44.4, 55.5],\n",
    "    },\n",
    "    index=pd.RangeIndex(2, 6),\n",
    ")\n",
    "another_df"
   ]
  },
  {
   "cell_type": "markdown",
   "id": "22a8f91c-74a0-4d0a-bbdc-985ece194f3d",
   "metadata": {},
   "source": [
    "<br><br><br>"
   ]
  },
  {
   "cell_type": "code",
   "execution_count": null,
   "id": "4dc44cfe-f2d5-4489-9517-eaf225cacfbd",
   "metadata": {},
   "outputs": [],
   "source": [
    "joined_df = df.join(another_df)\n",
    "joined_df"
   ]
  },
  {
   "cell_type": "markdown",
   "id": "61ead20a-db31-47c4-8c54-c61028d781bf",
   "metadata": {},
   "source": [
    "<br><br><br>"
   ]
  },
  {
   "cell_type": "code",
   "execution_count": null,
   "id": "43c0ebcd-350c-4c5a-9efc-fc20c795c3c6",
   "metadata": {},
   "outputs": [],
   "source": [
    "joined_df.dropna()"
   ]
  },
  {
   "cell_type": "markdown",
   "id": "2f71dfbb-060c-4e4b-b18b-fcd2d3d5740c",
   "metadata": {},
   "source": [
    "<br><br><br>"
   ]
  },
  {
   "cell_type": "markdown",
   "id": "68a6668d-cd18-4662-a8a3-f3378e61a33e",
   "metadata": {},
   "source": [
    "The [penguin dataset](https://www.kaggle.com/code/parulpandey/penguin-dataset-the-new-iris)!"
   ]
  },
  {
   "cell_type": "code",
   "execution_count": null,
   "id": "2d05acd4-3f9c-4ee6-b1c4-35d867b8e8c6",
   "metadata": {},
   "outputs": [],
   "source": [
    "penguins = pd.read_csv(\"data/penguins.csv\")\n",
    "penguins"
   ]
  },
  {
   "cell_type": "markdown",
   "id": "138bef87-3343-462c-88a9-80185037bb32",
   "metadata": {},
   "source": [
    "<br><br><br>"
   ]
  },
  {
   "cell_type": "code",
   "execution_count": null,
   "id": "ad494627-313b-4b01-862a-3bdea208ff12",
   "metadata": {},
   "outputs": [],
   "source": [
    "penguins[penguins[\"island\"] == \"Biscoe\"]"
   ]
  },
  {
   "cell_type": "markdown",
   "id": "dc641b11-c69a-4c6c-8d1f-d0de5df2f22a",
   "metadata": {},
   "source": [
    "<br><br><br>"
   ]
  },
  {
   "cell_type": "code",
   "execution_count": null,
   "id": "13172081-3d67-4146-9b5e-06cfa6b56de9",
   "metadata": {},
   "outputs": [],
   "source": [
    "penguins[penguins[\"island\"] == \"Biscoe\"].dropna()"
   ]
  },
  {
   "cell_type": "markdown",
   "id": "afe8ca74-5e84-4590-a5ad-481122841b2e",
   "metadata": {},
   "source": [
    "<br><br><br>"
   ]
  },
  {
   "cell_type": "code",
   "execution_count": null,
   "id": "f9f02122-ad75-4759-8ba6-4d860cd22828",
   "metadata": {},
   "outputs": [],
   "source": [
    "import matplotlib  # force it to load (JupyterLite only)"
   ]
  },
  {
   "cell_type": "code",
   "execution_count": null,
   "id": "1615bd72-780c-4478-9550-a7dbd45871de",
   "metadata": {},
   "outputs": [],
   "source": [
    "penguins.plot.scatter(\"bill_length_mm\", \"bill_depth_mm\")"
   ]
  },
  {
   "cell_type": "markdown",
   "id": "6c9a81cf-d44f-4880-9692-70a58ddd25c1",
   "metadata": {},
   "source": [
    "<br><br><br>"
   ]
  },
  {
   "cell_type": "markdown",
   "id": "855905a3-e511-4283-b948-5aa72c631ef3",
   "metadata": {
    "jp-MarkdownHeadingCollapsed": true
   },
   "source": [
    "## Plotting (Matplotlib)"
   ]
  },
  {
   "cell_type": "markdown",
   "id": "053e576b-3ed6-41c8-86dc-8f0bfdd35870",
   "metadata": {},
   "source": [
    "<img src=\"img/matplotlib-logo.svg\" width=\"200\">"
   ]
  },
  {
   "cell_type": "code",
   "execution_count": null,
   "id": "dba6fa60-2425-48be-9444-d3059caf3d1a",
   "metadata": {},
   "outputs": [],
   "source": [
    "import matplotlib.pyplot as plt"
   ]
  },
  {
   "cell_type": "code",
   "execution_count": null,
   "id": "1de9740c-8c87-4af4-b736-c30618b48058",
   "metadata": {},
   "outputs": [],
   "source": [
    "plt.plot([1, 2, 3, 5, 10], [1.1, 2.9, 3.1, 0.5, 8.0])"
   ]
  },
  {
   "cell_type": "markdown",
   "id": "b9265a99-0ab5-476f-b11e-1b3282a03d14",
   "metadata": {},
   "source": [
    "<br><br><br>"
   ]
  },
  {
   "cell_type": "code",
   "execution_count": null,
   "id": "64deac56-e21f-4b10-8474-8e2aae17c45c",
   "metadata": {},
   "outputs": [],
   "source": [
    "fig, ax = plt.subplots()\n",
    "\n",
    "ax.plot([1, 2, 3, 5, 10], [1.1, 2.9, 3.1, 0.5, 8.0])\n",
    "\n",
    "None"
   ]
  },
  {
   "cell_type": "markdown",
   "id": "a070b90d-6d66-49c2-b90f-70f40b9e2191",
   "metadata": {},
   "source": [
    "<br><br><br>"
   ]
  },
  {
   "cell_type": "code",
   "execution_count": null,
   "id": "ea864520-202c-40bb-b67a-0ce5f7b941c8",
   "metadata": {},
   "outputs": [],
   "source": [
    "fig, (ax1, ax2) = plt.subplots(1, 2, figsize=(12, 5))\n",
    "\n",
    "ax1.plot([1, 2, 3, 5, 10], [1.1, 2.9, 3.1, 0.5, 8.0])\n",
    "\n",
    "ax2.scatter([1, 2, 3, 5, 10], [1.1, 2.9, 3.1, 0.5, 8.0])\n",
    "\n",
    "None"
   ]
  },
  {
   "cell_type": "markdown",
   "id": "e4069f07-8e29-4585-9636-e90b171628ba",
   "metadata": {},
   "source": [
    "<br><br><br>"
   ]
  },
  {
   "cell_type": "code",
   "execution_count": null,
   "id": "4ff05e7a-0e4a-4878-a4ba-ce8f57363384",
   "metadata": {},
   "outputs": [],
   "source": [
    "fig, (ax1, ax2) = plt.subplots(1, 2, figsize=(12, 5))\n",
    "\n",
    "ax1.plot([1, 2, 3, 5, 10], [1.1, 2.9, 3.1, 0.5, 8.0])\n",
    "ax1.set_xlabel(\"we control the horizontal\")\n",
    "ax1.set_ylabel(\"we control the vertical\")\n",
    "\n",
    "ax2.scatter([1, 2, 3, 5, 10], [1.1, 2.9, 3.1, 0.5, 8.0])\n",
    "ax2.set_xlim(-5, 15)\n",
    "ax2.set_ylim(0, 20)\n",
    "\n",
    "None"
   ]
  },
  {
   "cell_type": "markdown",
   "id": "351e52a6-39eb-4a52-b2c5-0d21ea4b1265",
   "metadata": {},
   "source": [
    "<br><br><br>"
   ]
  },
  {
   "cell_type": "code",
   "execution_count": null,
   "id": "21436a09-12a6-4291-9045-6f379324d589",
   "metadata": {},
   "outputs": [],
   "source": [
    "fig, ax = plt.subplots()\n",
    "\n",
    "penguins.plot.scatter(\"bill_length_mm\", \"bill_depth_mm\", ax=ax)\n",
    "\n",
    "ax.set_xlabel(\"bill length (mm)\")\n",
    "ax.set_ylabel(\"bill depth (mm)\")\n",
    "ax.set_title(\"penguins!\")\n",
    "\n",
    "None"
   ]
  },
  {
   "cell_type": "markdown",
   "id": "027ae6be-c142-4469-a5e0-3b4100db7772",
   "metadata": {},
   "source": [
    "<br><br><br>"
   ]
  },
  {
   "cell_type": "code",
   "execution_count": null,
   "id": "125ed10f-4403-4f39-a7a4-6584a3019f30",
   "metadata": {},
   "outputs": [],
   "source": [
    "fig, ax = plt.subplots()\n",
    "\n",
    "penguins[penguins[\"species\"] == \"Adelie\"].plot.scatter(\"bill_length_mm\", \"bill_depth_mm\", color=\"blue\", ax=ax)\n",
    "penguins[penguins[\"species\"] == \"Gentoo\"].plot.scatter(\"bill_length_mm\", \"bill_depth_mm\", color=\"orange\", ax=ax)\n",
    "penguins[penguins[\"species\"] == \"Chinstrap\"].plot.scatter(\"bill_length_mm\", \"bill_depth_mm\", color=\"green\", ax=ax)\n",
    "\n",
    "ax.set_xlabel(\"bill length (mm)\")\n",
    "ax.set_ylabel(\"bill depth (mm)\")\n",
    "\n",
    "None"
   ]
  },
  {
   "cell_type": "markdown",
   "id": "bdcdd63d-509d-4faf-a09c-115e90961591",
   "metadata": {},
   "source": [
    "<br><br><br>"
   ]
  },
  {
   "cell_type": "markdown",
   "id": "0da1a010-6bf3-4621-b400-bb99298e3e00",
   "metadata": {},
   "source": [
    "**Exercise:** Plot bill depth (`bill_depth_mm`) versus bill length (`bill_length`) in one plot and body mass (`body_mass_g`) versus flipper length (`flipper_length_mm`) in another plot beside it, colored by species (`species`), such that they look like this:\n",
    "\n",
    "<img src=\"img/02-side-by-side-plots.svg\" width=\"1000\">"
   ]
  },
  {
   "cell_type": "code",
   "execution_count": null,
   "id": "72f413cc-0c6a-4536-b131-d7f46b618950",
   "metadata": {},
   "outputs": [],
   "source": [
    "# Try to solve it here before using the next cell to show solutions.\n",
    "\n",
    "print(\"???\")"
   ]
  },
  {
   "cell_type": "markdown",
   "id": "79f6867b-20cd-4583-b942-e80287d32817",
   "metadata": {},
   "source": [
    "<details>\n",
    "    <summary><b>Solution (do not peek!)</b></summary>\n",
    "\n",
    "```python\n",
    "\n",
    "fig, (ax1, ax2) = plt.subplots(1, 2, figsize=(12, 5))\n",
    "\n",
    "penguins[penguins[\"species\"] == \"Adelie\"].plot.scatter(\"bill_length_mm\", \"bill_depth_mm\", color=\"blue\", ax=ax1)\n",
    "penguins[penguins[\"species\"] == \"Gentoo\"].plot.scatter(\"bill_length_mm\", \"bill_depth_mm\", color=\"orange\", ax=ax1)\n",
    "penguins[penguins[\"species\"] == \"Chinstrap\"].plot.scatter(\"bill_length_mm\", \"bill_depth_mm\", color=\"green\", ax=ax1)\n",
    "ax1.set_xlabel(\"bill length (mm)\")\n",
    "ax1.set_ylabel(\"bill depth (mm)\")\n",
    "\n",
    "penguins[penguins[\"species\"] == \"Adelie\"].plot.scatter(\"flipper_length_mm\", \"body_mass_g\", color=\"blue\", ax=ax2)\n",
    "penguins[penguins[\"species\"] == \"Gentoo\"].plot.scatter(\"flipper_length_mm\", \"body_mass_g\", color=\"orange\", ax=ax2)\n",
    "penguins[penguins[\"species\"] == \"Chinstrap\"].plot.scatter(\"flipper_length_mm\", \"body_mass_g\", color=\"green\", ax=ax2)\n",
    "ax2.set_xlabel(\"flipper length (mm)\")\n",
    "ax2.set_ylabel(\"body mass (g)\")\n",
    "\n",
    "None\n",
    "```\n",
    "    \n",
    "</details>"
   ]
  },
  {
   "cell_type": "markdown",
   "id": "5e23fb45-166b-46b2-ab17-f044fc0ed497",
   "metadata": {},
   "source": [
    "<details>\n",
    "    <summary><b>Slick solution (if you're really cool)</b></summary>\n",
    "\n",
    "```python\n",
    "\n",
    "fig, (ax1, ax2) = plt.subplots(1, 2, figsize=(12, 5))\n",
    "\n",
    "color = {\"Adelie\": \"blue\", \"Gentoo\": \"orange\", \"Chinstrap\": \"green\"}\n",
    "\n",
    "for species in [\"Adelie\", \"Gentoo\", \"Chinstrap\"]:\n",
    "    penguins[penguins[\"species\"] == species].plot.scatter(\"bill_length_mm\", \"bill_depth_mm\", color=color[species], ax=ax1)\n",
    "    penguins[penguins[\"species\"] == species].plot.scatter(\"flipper_length_mm\", \"body_mass_g\", color=color[species], ax=ax2)\n",
    "\n",
    "ax1.set_xlabel(\"bill length (mm)\")\n",
    "ax1.set_ylabel(\"bill depth (mm)\")\n",
    "\n",
    "ax2.set_xlabel(\"flipper length (mm)\")\n",
    "ax2.set_ylabel(\"body mass (g)\")\n",
    "\n",
    "None\n",
    "```\n",
    "    \n",
    "</details>"
   ]
  }
 ],
 "metadata": {
  "kernelspec": {
   "display_name": "Python 3 (ipykernel)",
   "language": "python",
   "name": "python3"
  },
  "language_info": {
   "codemirror_mode": {
    "name": "ipython",
    "version": 3
   },
   "file_extension": ".py",
   "mimetype": "text/x-python",
   "name": "python",
   "nbconvert_exporter": "python",
   "pygments_lexer": "ipython3",
   "version": "3.10.14"
  }
 },
 "nbformat": 4,
 "nbformat_minor": 5
}
