{
 "cells": [
  {
   "cell_type": "markdown",
   "id": "eabc6243-9d7f-45df-9014-a90ce4c2f532",
   "metadata": {},
   "source": [
    "# Mathematical background"
   ]
  },
  {
   "cell_type": "markdown",
   "id": "7d4aaab2-d890-4bb1-8435-90e7fac5014f",
   "metadata": {},
   "source": [
    "Like the Python review, this doesn't cover all the math that could be relevant, just the important concepts for data analysis and machine learning.\n",
    "\n",
    "I will _not_ be assuming that these concepts are familiar to you. **Ask questions!**\n",
    "\n",
    "I also don't expect you to learn new mathematical topics quickly enough to pass a quiz or something: the goal here is for you to have _the right picture in mind_ while the computer performs the computations.\n",
    "\n",
    "With the right picture in mind, you will be able to understand why we call the functions that we do, and what the outputs and plots mean.\n",
    "\n",
    "Also, if you're learning any of these topics in school, you'll see what they lead to."
   ]
  },
  {
   "cell_type": "markdown",
   "id": "ca981b47-5d80-464b-8f5e-9326fdbc2f27",
   "metadata": {},
   "source": [
    "<br><br><br>"
   ]
  },
  {
   "cell_type": "markdown",
   "id": "fa912d54-fda5-4d5a-aa0c-922a39bb230b",
   "metadata": {
    "jp-MarkdownHeadingCollapsed": true
   },
   "source": [
    "## N-dimensional space"
   ]
  },
  {
   "cell_type": "markdown",
   "id": "299de96a-d71c-42bc-9e22-947916751136",
   "metadata": {},
   "source": [
    "At the end of the last notebook, we plotted the penguins like this:\n",
    "\n",
    "<img src=\"img/02-side-by-side-plots.svg\" width=\"1000\">\n",
    "\n",
    "344 flesh-and-blood penguins have been reduced to dots on paper (er, on a screen)."
   ]
  },
  {
   "cell_type": "markdown",
   "id": "8e872aaf-d6f3-4fd6-b812-729e844158a2",
   "metadata": {},
   "source": [
    "<br><br><br>"
   ]
  },
  {
   "cell_type": "markdown",
   "id": "321b341a-62b7-428c-8310-7ba0187f86f5",
   "metadata": {},
   "source": [
    "In general, this is how we approach all data analysis problems:\n",
    "\n",
    "1. measure real-world quantities,\n",
    "2. think of them as points in an N-dimensional space*,\n",
    "3. a good statistical description or theoretical prediction should match the _points in space_ as closely as possible."
   ]
  },
  {
   "cell_type": "markdown",
   "id": "f6a09b62-85f9-4ecf-8ab4-8906c6dc0c60",
   "metadata": {},
   "source": [
    "<br><br><br>"
   ]
  },
  {
   "cell_type": "markdown",
   "id": "3d75f744-c9db-4fe2-addc-b1949b2b0aef",
   "metadata": {},
   "source": [
    "\\* N-dimensional space: more than just 3-D\n",
    "\n",
    "Physical space might have only 3 dimensions, but data can have any number of dimensions: any \"N\".\n",
    "\n",
    "The following NumPy arrays cover 1-D, 2-D, 3-D, and 4-D grids with random numbers:"
   ]
  },
  {
   "cell_type": "code",
   "execution_count": null,
   "id": "e73e30c6-e817-4dee-b37a-e8f8ea494ba2",
   "metadata": {},
   "outputs": [],
   "source": [
    "import numpy as np"
   ]
  },
  {
   "cell_type": "code",
   "execution_count": null,
   "id": "dc834134-eeb0-48e5-9c70-eddc015b288d",
   "metadata": {},
   "outputs": [],
   "source": [
    "one_dimensional_array = np.random.normal(0, 1, size=(5,))\n",
    "one_dimensional_array"
   ]
  },
  {
   "cell_type": "code",
   "execution_count": null,
   "id": "21387d8e-b5ad-4ca0-ad36-dd65a256642a",
   "metadata": {},
   "outputs": [],
   "source": [
    "two_dimensional_array = np.random.normal(0, 1, size=(5, 5))\n",
    "two_dimensional_array"
   ]
  },
  {
   "cell_type": "code",
   "execution_count": null,
   "id": "f1e62e83-f40e-49a9-b994-afe07455fcad",
   "metadata": {},
   "outputs": [],
   "source": [
    "three_dimensional_array = np.random.normal(0, 1, size=(3, 5, 3))\n",
    "three_dimensional_array"
   ]
  },
  {
   "cell_type": "code",
   "execution_count": null,
   "id": "42b04d12-db5b-4dce-9940-b3a41bf1f4f4",
   "metadata": {},
   "outputs": [],
   "source": [
    "four_dimensional_array = np.random.normal(0, 1, size=(2, 3, 5, 3))\n",
    "four_dimensional_array"
   ]
  },
  {
   "cell_type": "markdown",
   "id": "d331278f-243b-4574-8cd5-c99585239a64",
   "metadata": {},
   "source": [
    "<br><br><br>"
   ]
  },
  {
   "cell_type": "markdown",
   "id": "79143908-7e43-4d98-b2f6-e9ad4ed37fad",
   "metadata": {},
   "source": [
    "We can visualize 2 dimensions as an image, presenting position along the grid spatially (the $x$ and $y$ axes) and the numbers as colors (dark blue to yellow in the default)."
   ]
  },
  {
   "cell_type": "code",
   "execution_count": null,
   "id": "97bd80fe-d073-4aa1-9b23-6bfd7eba7c14",
   "metadata": {},
   "outputs": [],
   "source": [
    "import matplotlib.pyplot as plt"
   ]
  },
  {
   "cell_type": "code",
   "execution_count": null,
   "id": "61e1e23b-83ca-4a36-b16c-34ddf9045846",
   "metadata": {},
   "outputs": [],
   "source": [
    "plt.imshow(two_dimensional_array)\n",
    "plt.gca().invert_yaxis()\n",
    "plt.colorbar()"
   ]
  },
  {
   "cell_type": "markdown",
   "id": "8a411fbd-0347-4849-a24a-01911fa87966",
   "metadata": {},
   "source": [
    "Or we could show the same thing as contour lines."
   ]
  },
  {
   "cell_type": "code",
   "execution_count": null,
   "id": "3559fb8e-b91f-4664-a607-ce012a666b79",
   "metadata": {},
   "outputs": [],
   "source": [
    "contour = plt.contour(two_dimensional_array)\n",
    "plt.clabel(contour)"
   ]
  },
  {
   "cell_type": "markdown",
   "id": "d6227fd0-5770-4395-948b-e4a4df2434f5",
   "metadata": {},
   "source": [
    "If we have more dimensions, we have to slice out a region of interest or sum/average over them to get something 2-D that we can visualize.\n",
    "\n",
    "With one dimension, we can make the numbers $y$ positions of an $x$-$y$ plot, rather than colors:"
   ]
  },
  {
   "cell_type": "code",
   "execution_count": null,
   "id": "28fa3c64-4921-4a81-9404-1fbb506407d1",
   "metadata": {},
   "outputs": [],
   "source": [
    "index_positions = np.arange(len(one_dimensional_array))\n",
    "\n",
    "plt.plot(index_positions, one_dimensional_array)\n",
    "\n",
    "plt.xticks(index_positions)\n",
    "plt.xlabel(\"index positions along the array\")\n",
    "plt.ylabel(\"numbers in the array\")"
   ]
  },
  {
   "cell_type": "markdown",
   "id": "34fe8d72-9c87-43bf-954a-201444f24fb5",
   "metadata": {},
   "source": [
    "<br><br><br>"
   ]
  },
  {
   "cell_type": "markdown",
   "id": "34e5a674-f342-41a0-926f-da1a6a591b2f",
   "metadata": {},
   "source": [
    "A 2-D example with not-so-random numbers:"
   ]
  },
  {
   "cell_type": "code",
   "execution_count": null,
   "id": "47502d46-2625-487f-bc70-dd46fdb0290a",
   "metadata": {},
   "outputs": [],
   "source": [
    "x, y = np.meshgrid(np.linspace(-5, 5, 100), np.linspace(-5, 5, 100))\n",
    "\n",
    "three_spots = (\n",
    "    1/(1 + (x + 0)**2 + (y + 0)**2) +     # spot centered at x=0,  y=0\n",
    "    1/(1 + (x - 2)**2 + (y - 2)**2) +     # spot centered at x=2,  y=2\n",
    "    1/(1 + (x + 3)**2 + (y - 3)**2)       # spot centered at x=-3, y=3\n",
    ")\n",
    "\n",
    "three_spots"
   ]
  },
  {
   "cell_type": "code",
   "execution_count": null,
   "id": "d3033a22-4439-43f6-b2f5-7382ef10b340",
   "metadata": {},
   "outputs": [],
   "source": [
    "plt.imshow(three_spots)\n",
    "plt.gca().invert_yaxis()\n",
    "plt.colorbar()"
   ]
  },
  {
   "cell_type": "code",
   "execution_count": null,
   "id": "ee0fdcfd-fb60-440d-87c5-353a91a4df82",
   "metadata": {},
   "outputs": [],
   "source": [
    "contour = plt.contour(three_spots)\n",
    "plt.clabel(contour)"
   ]
  },
  {
   "cell_type": "markdown",
   "id": "3d0a18fc-d356-49a5-9244-0a5563e6edff",
   "metadata": {},
   "source": [
    "<br><br><br>"
   ]
  },
  {
   "cell_type": "markdown",
   "id": "24104886-4bb2-47a7-b6bd-3cca5d3fea84",
   "metadata": {},
   "source": [
    "Slicing through the middle and plotting in 1-D:"
   ]
  },
  {
   "cell_type": "code",
   "execution_count": null,
   "id": "2665ec7b-7fd3-4140-bd4c-9d456a844783",
   "metadata": {},
   "outputs": [],
   "source": [
    "one_dimensional_slice = three_spots[50, :]"
   ]
  },
  {
   "cell_type": "code",
   "execution_count": null,
   "id": "368b1a9d-da6e-471c-9505-e11859b25f4b",
   "metadata": {},
   "outputs": [],
   "source": [
    "plt.plot(np.arange(len(one_dimensional_slice)), one_dimensional_slice)\n",
    "\n",
    "plt.xticks(np.arange(0, len(one_dimensional_slice), 10))\n",
    "plt.xlabel(\"index positions along the array\")\n",
    "plt.ylabel(\"numbers in the array\")"
   ]
  },
  {
   "cell_type": "markdown",
   "id": "04b1a12e-bc23-43e5-8b21-db6c65576d2a",
   "metadata": {},
   "source": [
    "<br><br><br>"
   ]
  },
  {
   "cell_type": "markdown",
   "id": "2adcbf9b-dd07-4022-981d-167a5fd5a089",
   "metadata": {},
   "source": [
    "Summing over the $y$ dimension and plotting in 1-D:"
   ]
  },
  {
   "cell_type": "code",
   "execution_count": null,
   "id": "05036de7-c134-4e56-8022-d74c887022ee",
   "metadata": {},
   "outputs": [],
   "source": [
    "one_dimensional_projection = np.sum(three_spots, axis=0)"
   ]
  },
  {
   "cell_type": "code",
   "execution_count": null,
   "id": "838917b3-e75d-4041-aa98-ef34c097be9c",
   "metadata": {},
   "outputs": [],
   "source": [
    "plt.plot(np.arange(len(one_dimensional_projection)), one_dimensional_projection)\n",
    "\n",
    "plt.xticks(np.arange(0, len(one_dimensional_projection), 10))\n",
    "plt.xlabel(\"index positions along the array\")\n",
    "plt.ylabel(\"numbers in the array\")"
   ]
  },
  {
   "cell_type": "markdown",
   "id": "0490e8db-c917-4c28-9a61-861e47e8c8ef",
   "metadata": {},
   "source": [
    "<br><br><br>"
   ]
  },
  {
   "cell_type": "markdown",
   "id": "c45b1f82-b38a-42e4-9322-0e28fb7203fc",
   "metadata": {},
   "source": [
    "Similarly, when we slice or project 3-D, 4-D, ... N-D arrays to visualize them in 1-D or 2-D, we're either cutting out parts or \"squashing\" parts together, or both."
   ]
  },
  {
   "cell_type": "markdown",
   "id": "7484e8b1-c088-40f8-8650-264a8f65f4e5",
   "metadata": {},
   "source": [
    "<br><br><br>"
   ]
  },
  {
   "cell_type": "markdown",
   "id": "a2c9a957-1e75-4d56-aec1-dd11a6ce2ecc",
   "metadata": {
    "jp-MarkdownHeadingCollapsed": true
   },
   "source": [
    "## Measurements as N-dimensional points"
   ]
  },
  {
   "cell_type": "markdown",
   "id": "7c514128-e1a3-43fd-884f-b874002c59ca",
   "metadata": {},
   "source": [
    "In an array like"
   ]
  },
  {
   "cell_type": "code",
   "execution_count": null,
   "id": "7569cf33-cdba-4073-b676-7d1e29dd1e61",
   "metadata": {},
   "outputs": [],
   "source": [
    "four_dimensional_array"
   ]
  },
  {
   "cell_type": "markdown",
   "id": "01115c58-f8f1-48fb-bd2e-29716b8feda7",
   "metadata": {},
   "source": [
    "every grid position in the 4-D space is filled with a number.\n",
    "\n",
    "The penguin data is also 4 dimensional, but it's different:"
   ]
  },
  {
   "cell_type": "code",
   "execution_count": null,
   "id": "86ef10d0-a9a0-4784-b84c-443085fbd134",
   "metadata": {},
   "outputs": [],
   "source": [
    "import pandas as pd"
   ]
  },
  {
   "cell_type": "code",
   "execution_count": null,
   "id": "c0076c8a-436c-4aec-bbea-1c7d1c6d88a9",
   "metadata": {},
   "outputs": [],
   "source": [
    "penguins = pd.read_csv(\"data/penguins.csv\")\n",
    "penguins[[\"bill_length_mm\", \"bill_depth_mm\", \"flipper_length_mm\", \"body_mass_g\"]]"
   ]
  },
  {
   "cell_type": "markdown",
   "id": "4242e61e-c595-41f5-aa30-9d82a1a738fe",
   "metadata": {},
   "source": [
    "The 4 dimensions of \"bill length\", \"bill depth\", \"flipper length\", and \"body mass\" are presented in a 2 dimensional table.\n",
    "\n",
    "Also, we plot them as points, not as space-filling colors or curves."
   ]
  },
  {
   "cell_type": "code",
   "execution_count": null,
   "id": "a4bb5ebe-ca8e-4eba-a20c-bbb3b85215ac",
   "metadata": {},
   "outputs": [],
   "source": [
    "penguins.plot.scatter(\"bill_length_mm\", \"bill_depth_mm\")"
   ]
  },
  {
   "cell_type": "markdown",
   "id": "18f717d8-ce31-40d0-a095-aab2480d678a",
   "metadata": {},
   "source": [
    "<br><br><br>"
   ]
  },
  {
   "cell_type": "markdown",
   "id": "c888ec11-3220-49a9-9559-ed05b2c2824d",
   "metadata": {},
   "source": [
    "The data can be presented as a NumPy array,"
   ]
  },
  {
   "cell_type": "code",
   "execution_count": null,
   "id": "37331c9d-1bee-4c02-8e24-49adad19bc30",
   "metadata": {},
   "outputs": [],
   "source": [
    "penguins[[\"bill_length_mm\", \"bill_depth_mm\", \"flipper_length_mm\", \"body_mass_g\"]].values"
   ]
  },
  {
   "cell_type": "markdown",
   "id": "c2acff7e-bf24-4f4d-89a4-652c7d4d2b0f",
   "metadata": {},
   "source": [
    "but it has a different interpretation: instead of interpreting the index position along the array as $x$ or $y$, we're now interpreting\n",
    "\n",
    "* a number in the first column as the position in the first dimension,\n",
    "* a number in the second column as the position in the second dimension,\n",
    "* a number in the third column as the position in the third dimension,\n",
    "* a number in the fourth column as the position in the fourth dimension.\n",
    "\n",
    "A data frame represents as many dimensions as it has _columns_."
   ]
  },
  {
   "cell_type": "code",
   "execution_count": null,
   "id": "28c68d85-b344-4f07-b479-bf3565c45ac6",
   "metadata": {},
   "outputs": [],
   "source": [
    "penguins.columns"
   ]
  },
  {
   "cell_type": "markdown",
   "id": "af65ef12-63d6-49a3-8043-50215c724674",
   "metadata": {},
   "source": [
    "<br><br><br>"
   ]
  },
  {
   "cell_type": "markdown",
   "id": "44ad8468-153c-4e73-9724-63506bf8b1a0",
   "metadata": {
    "jp-MarkdownHeadingCollapsed": true
   },
   "source": [
    "## Measurements and models"
   ]
  },
  {
   "cell_type": "markdown",
   "id": "afb886f9-067d-48ca-8972-3f9f26a792e1",
   "metadata": {},
   "source": [
    "These are the two fundamental concepts of data analysis (and science in general):\n",
    "\n",
    "* **measurements** are a finite number of N-dimensional points that come from the real world; they are _experimental_,\n",
    "* **models** are mathematical predictions of what is expected to happen at any given N-dimensional point; they are _theoretical_."
   ]
  },
  {
   "cell_type": "markdown",
   "id": "ec8fe762-8926-4065-97ce-2dfef1c800a8",
   "metadata": {},
   "source": [
    "<br><br><br>"
   ]
  },
  {
   "cell_type": "markdown",
   "id": "047915a3-b5f2-4ee4-afcd-133c662e5466",
   "metadata": {},
   "source": [
    "As an example, suppose we measure two quantities, $x$ and $y$, 100 times.\n",
    "\n",
    "The result is not always the same because of measurement error or changes with time or some other variable (human choice...)."
   ]
  },
  {
   "cell_type": "code",
   "execution_count": null,
   "id": "776fb270-a844-4226-b6b2-88e441c5196d",
   "metadata": {},
   "outputs": [],
   "source": [
    "# Although we're randomly generating these points, pretend that they come from a measurement device.\n",
    "measurement_x = np.random.normal(3, 1, 100)\n",
    "measurement_y = np.random.normal(2, 1, 100)\n",
    "\n",
    "measurements = np.column_stack((measurement_x, measurement_y))\n",
    "measurements"
   ]
  },
  {
   "cell_type": "code",
   "execution_count": null,
   "id": "d166e394-73f5-4614-951c-8e7e770562d8",
   "metadata": {},
   "outputs": [],
   "source": [
    "fig, ax = plt.subplots(figsize=(6, 6))\n",
    "\n",
    "ax.scatter(measurement_x, measurement_y, color=\"orange\")\n",
    "\n",
    "ax.set_xlim(-5, 5)\n",
    "ax.set_ylim(-5, 5)\n",
    "\n",
    "None"
   ]
  },
  {
   "cell_type": "markdown",
   "id": "066b50b8-de43-4b60-a1ff-11dff9b3d306",
   "metadata": {},
   "source": [
    "This model, which returns \"probability density of (x, y)\" for any (x, y) grid point, describes the data well."
   ]
  },
  {
   "cell_type": "code",
   "execution_count": null,
   "id": "2863ad77-5ff9-4135-b893-3156e71f5e8e",
   "metadata": {},
   "outputs": [],
   "source": [
    "def good_model(x, y):\n",
    "    return np.exp(-((x - 3)**2 + (y - 2)**2)/2)/2/np.pi"
   ]
  },
  {
   "cell_type": "code",
   "execution_count": null,
   "id": "8af8a3ab-ccf3-4d5c-9caa-612ae2dcb332",
   "metadata": {},
   "outputs": [],
   "source": [
    "x, y = np.meshgrid(np.linspace(-5, 5, 1000), np.linspace(-5, 5, 1000))\n",
    "probability = good_model(x, y)\n",
    "probability"
   ]
  },
  {
   "cell_type": "code",
   "execution_count": null,
   "id": "2169169a-16d7-4806-b37a-24ee05f86079",
   "metadata": {},
   "outputs": [],
   "source": [
    "fig, ax = plt.subplots(figsize=(7.25, 6))\n",
    "\n",
    "contour = ax.contourf(x, y, probability)\n",
    "ax.scatter(measurement_x, measurement_y, color=\"orange\")\n",
    "\n",
    "ax.set_xlim(-5, 5)\n",
    "ax.set_ylim(-5, 5)\n",
    "fig.colorbar(contour, label=\"probability density\")\n",
    "\n",
    "None"
   ]
  },
  {
   "cell_type": "code",
   "execution_count": null,
   "id": "ddc2d7d2-2f24-4047-a5db-c2e853390cff",
   "metadata": {},
   "outputs": [],
   "source": [
    "fig, ax = plt.subplots(figsize=(6, 6))\n",
    "\n",
    "contour = ax.contour(x, y, probability)\n",
    "ax.clabel(contour)\n",
    "ax.scatter(measurement_x, measurement_y, color=\"orange\")\n",
    "\n",
    "ax.set_xlim(-5, 5)\n",
    "ax.set_ylim(-5, 5)\n",
    "\n",
    "None"
   ]
  },
  {
   "cell_type": "markdown",
   "id": "49007f01-2cae-4f36-a10b-df7613306c2e",
   "metadata": {},
   "source": [
    "<br><br><br>"
   ]
  },
  {
   "cell_type": "markdown",
   "id": "4671171c-ccde-42d7-8259-0623c73184a6",
   "metadata": {},
   "source": [
    "And this is a bad model:"
   ]
  },
  {
   "cell_type": "code",
   "execution_count": null,
   "id": "be402adf-8daf-421a-8153-85b0f424aa9e",
   "metadata": {},
   "outputs": [],
   "source": [
    "def bad_model(x, y):\n",
    "    return np.exp(-(4*(x + 2)**2 + y**2)/4)/2/np.pi"
   ]
  },
  {
   "cell_type": "code",
   "execution_count": null,
   "id": "a8bbdcf4-3f8b-4f95-805c-3ace90ed83b8",
   "metadata": {},
   "outputs": [],
   "source": [
    "fig, ax = plt.subplots(figsize=(6, 6))\n",
    "\n",
    "x, y = np.meshgrid(np.linspace(-5, 5, 100), np.linspace(-5, 5, 100))\n",
    "probability = bad_model(x, y)\n",
    "\n",
    "contour = ax.contour(x, y, probability)\n",
    "ax.clabel(contour)\n",
    "ax.scatter(measurement_x, measurement_y, color=\"orange\")\n",
    "\n",
    "ax.set_xlim(-5, 5)\n",
    "ax.set_ylim(-5, 5)\n",
    "\n",
    "None"
   ]
  },
  {
   "cell_type": "markdown",
   "id": "ac90ed29-2201-404e-9a0f-b81cfc64b6c0",
   "metadata": {},
   "source": [
    "<br><br><br>"
   ]
  },
  {
   "cell_type": "markdown",
   "id": "45898457-2b67-4a23-88fc-135caff1990f",
   "metadata": {},
   "source": [
    "It's a bad model because\n",
    "\n",
    "1. most of the experimentally observed points are at $x$, $y$ points that the model says should have low probability,\n",
    "2. if we were to use the model to _generate_ (simulate) fake data, the fake data are very different from the real data."
   ]
  },
  {
   "cell_type": "code",
   "execution_count": null,
   "id": "151dd64d-a5ea-4169-8c37-064152d01aad",
   "metadata": {},
   "outputs": [],
   "source": [
    "# Only summing them to show that they're generally large numbers; not saying this is a statistically meaningful thing to do...\n",
    "np.sum(good_model(measurement_x, measurement_y))"
   ]
  },
  {
   "cell_type": "code",
   "execution_count": null,
   "id": "81669b77-d72d-4550-8c95-cb230e46af07",
   "metadata": {},
   "outputs": [],
   "source": [
    "# Same thing, but from the bad model, they're generally small numbers—much smaller!\n",
    "np.sum(bad_model(measurement_x, measurement_y))"
   ]
  },
  {
   "cell_type": "markdown",
   "id": "218efadf-3ef3-47c2-a38c-52e6fa19b2e4",
   "metadata": {},
   "source": [
    "<br><br><br>"
   ]
  },
  {
   "cell_type": "code",
   "execution_count": null,
   "id": "52ca90e1-1e2f-498d-bf24-261622460c10",
   "metadata": {},
   "outputs": [],
   "source": [
    "def generate(model):\n",
    "    while True:\n",
    "        x = np.random.uniform(-5, 5)\n",
    "        y = np.random.uniform(-5, 5)\n",
    "        p = np.random.uniform(0, 1)\n",
    "        if p < model(x, y):\n",
    "            return x, y"
   ]
  },
  {
   "cell_type": "code",
   "execution_count": null,
   "id": "b2d54453-33e3-4eef-bb46-d7700fbaad1d",
   "metadata": {},
   "outputs": [],
   "source": [
    "for i in range(10):\n",
    "    print(generate(good_model))"
   ]
  },
  {
   "cell_type": "code",
   "execution_count": null,
   "id": "50e1c4e1-ba78-4585-9415-06daa38c06f5",
   "metadata": {},
   "outputs": [],
   "source": [
    "for i in range(10):\n",
    "    print(generate(bad_model))"
   ]
  },
  {
   "cell_type": "code",
   "execution_count": null,
   "id": "ad364b70-9949-4200-a4a1-94e9bc85c7c8",
   "metadata": {},
   "outputs": [],
   "source": [
    "fig, ax = plt.subplots(figsize=(6, 6))\n",
    "\n",
    "good_fake_data = np.zeros((100, 2))\n",
    "bad_fake_data = np.zeros((100, 2))\n",
    "\n",
    "for i in range(100):\n",
    "    good_fake_data[i, :] = generate(good_model)\n",
    "    bad_fake_data[i, :] = generate(bad_model)\n",
    "\n",
    "ax.scatter(measurement_x, measurement_y, color=\"orange\", label=\"real data\")\n",
    "ax.scatter(good_fake_data[:, 0], good_fake_data[:, 1], color=\"green\", marker=\".\", label=\"good model\")\n",
    "ax.scatter(bad_fake_data[:, 0], bad_fake_data[:, 1], color=\"magenta\", marker=\"*\", label=\"bad model\")\n",
    "\n",
    "ax.set_xlim(-5, 5)\n",
    "ax.set_ylim(-5, 5)\n",
    "ax.legend(loc=\"upper left\")\n",
    "\n",
    "None"
   ]
  },
  {
   "cell_type": "markdown",
   "id": "03d17bf4-0d15-4434-9774-22704ce0d798",
   "metadata": {},
   "source": [
    "<br><br><br>"
   ]
  },
  {
   "cell_type": "markdown",
   "id": "becdd669-df03-4df5-9d2e-13a4ae74bc62",
   "metadata": {},
   "source": [
    "The `bad_model` above \"underfits\" the data because its predictions are usually wrong.\n",
    "\n",
    "It's also possible to \"overfit\", to be right too often:"
   ]
  },
  {
   "cell_type": "code",
   "execution_count": null,
   "id": "ae3aee58-4ed1-4e44-af03-b12fc445c8eb",
   "metadata": {},
   "outputs": [],
   "source": [
    "def generate_overfitted_model():\n",
    "    x, y = measurements[np.random.randint(0, len(measurements))]  # take a value from the measurements\n",
    "    x = x + np.random.normal(0, 0.01)                             # jiggle it so that it's not EXACTLY the same\n",
    "    y = y + np.random.normal(0, 0.01)\n",
    "    return x, y"
   ]
  },
  {
   "cell_type": "code",
   "execution_count": null,
   "id": "ca0b9f8b-f7df-4b1a-902b-27704e319354",
   "metadata": {},
   "outputs": [],
   "source": [
    "fig, ax = plt.subplots(figsize=(6, 6))\n",
    "\n",
    "overfitted_fake_data = np.zeros((100, 2))\n",
    "\n",
    "for i in range(100):\n",
    "    overfitted_fake_data[i, :] = generate_overfitted_model()\n",
    "\n",
    "ax.scatter(measurement_x, measurement_y, color=\"orange\", label=\"real data\")\n",
    "ax.scatter(overfitted_fake_data[:, 0], overfitted_fake_data[:, 1], color=\"purple\", marker=\"+\", s=100, label=\"overfitted model\")\n",
    "\n",
    "ax.set_xlim(-5, 5)\n",
    "ax.set_ylim(-5, 5)\n",
    "ax.legend(loc=\"upper left\")\n",
    "\n",
    "None"
   ]
  },
  {
   "cell_type": "markdown",
   "id": "2d758302-d1bf-4a4b-ac0a-6f34abd1ed53",
   "metadata": {},
   "source": [
    "<br><br><br>"
   ]
  },
  {
   "cell_type": "markdown",
   "id": "3d257494-866c-44aa-8b59-470bbb2923b2",
   "metadata": {
    "jp-MarkdownHeadingCollapsed": true
   },
   "source": [
    "### Summary"
   ]
  },
  {
   "cell_type": "markdown",
   "id": "7c29e49c-d9cc-4b04-928e-2bbef8ce535d",
   "metadata": {},
   "source": [
    "A model _generalizes_ the measurements.\n",
    "\n",
    "Whereas measurements says what the data _are_, a model says what the data _would be_."
   ]
  },
  {
   "cell_type": "markdown",
   "id": "9743ff44-a6a4-497a-9265-de5eb30cf067",
   "metadata": {},
   "source": [
    "<br><br><br>"
   ]
  },
  {
   "cell_type": "markdown",
   "id": "068299b4-38de-41ec-b4a6-1f6f40fd68d4",
   "metadata": {},
   "source": [
    "A model is a function from potential values of attributes (any point in the N-dimensional space) to\n",
    "\n",
    "* the probability that that combination of attributes exists, or\n",
    "* a prediction of some other attribute (or its probability), or\n",
    "* a category that we use to organize the data but isn't directly measurable, such as species (or its probability).\n",
    "\n",
    "Models come from our heads. We make them up, but some are better than others."
   ]
  },
  {
   "cell_type": "markdown",
   "id": "35553a20-f7eb-4c28-8e03-8891341bfca3",
   "metadata": {},
   "source": [
    "<br><br><br>"
   ]
  },
  {
   "cell_type": "markdown",
   "id": "a32da0ab-deec-4f2c-80b8-8d4ae15dd7e6",
   "metadata": {},
   "source": [
    "A measurement is just a point in the N-dimensional space.\n",
    "\n",
    "Measurements come from the real world. We don't make them up."
   ]
  },
  {
   "cell_type": "markdown",
   "id": "dd0a1f9d-920c-44a2-a164-debf294773d3",
   "metadata": {},
   "source": [
    "<br><br><br>"
   ]
  },
  {
   "cell_type": "markdown",
   "id": "77d7e28c-b4c3-4931-a038-bdc41664e727",
   "metadata": {
    "jp-MarkdownHeadingCollapsed": true
   },
   "source": [
    "## Statistics"
   ]
  },
  {
   "cell_type": "markdown",
   "id": "ba46f17d-d1f7-4a08-a82d-7bb75f3679b8",
   "metadata": {},
   "source": [
    "Real-world measurements are never exact and populations are never homogenous, so models are statistical.\n",
    "\n",
    "We need some statistical concepts."
   ]
  },
  {
   "cell_type": "markdown",
   "id": "263ec0c6-b7cd-433b-bda7-cb718945565e",
   "metadata": {
    "jp-MarkdownHeadingCollapsed": true
   },
   "source": [
    "### Probability distributions"
   ]
  },
  {
   "cell_type": "markdown",
   "id": "1eba51e8-12c7-467e-9045-a658f2213dd1",
   "metadata": {},
   "source": [
    "A **probability distribution** is a model of how probable each value in a set of possibilities is.\n",
    "\n",
    "For example, for a single (fair) die,\n",
    "\n",
    "<img src=\"img/dice-1.svg\" width=\"200\">\n",
    "\n",
    "the probability of rolling the die and getting a particular side up is 1/6 for each of the 6 sides, a uniform probability distribution."
   ]
  },
  {
   "cell_type": "code",
   "execution_count": null,
   "id": "8178149b-ee21-49bb-b5b4-026ad4bacb1e",
   "metadata": {},
   "outputs": [],
   "source": [
    "possibilities = [\"⚀\", \"⚁\", \"⚂\", \"⚃\", \"⚄\", \"⚅\"]\n",
    "probabilities = [1/6, 1/6, 1/6, 1/6, 1/6, 1/6]"
   ]
  },
  {
   "cell_type": "code",
   "execution_count": null,
   "id": "ce5cf652-f277-4c9e-93e7-ca9ea185f8a4",
   "metadata": {},
   "outputs": [],
   "source": [
    "fig, ax = plt.subplots()\n",
    "\n",
    "ax.bar(range(6), probabilities)\n",
    "\n",
    "ax.set_xticks(range(6), possibilities)\n",
    "ax.set_ylabel(\"probability\")\n",
    "\n",
    "None"
   ]
  },
  {
   "cell_type": "markdown",
   "id": "df558ffa-7cd4-4153-98c5-05a68da8efe6",
   "metadata": {},
   "source": [
    "<br><br><br>"
   ]
  },
  {
   "cell_type": "markdown",
   "id": "8fcc8b8d-ad8a-433d-a7d4-52a3a3678e11",
   "metadata": {},
   "source": [
    "For two (fair) dice,\n",
    "\n",
    "<img src=\"img/dice-2.svg\" width=\"200\">\n",
    "\n",
    "the probability of rolling the dice and getting a total score of 2, 3, 4, 5, 6, 7, 8, 9, 10, 11, or 12 is not uniform, since there's only one way to get 2 or 12, but 6 ways to get 7."
   ]
  },
  {
   "cell_type": "code",
   "execution_count": null,
   "id": "05ff77cf-bfe3-4d80-bcf9-bde174d0e1a2",
   "metadata": {},
   "outputs": [],
   "source": [
    "score_of_one_die = {\"⚀\": 1, \"⚁\": 2, \"⚂\": 3, \"⚃\": 4, \"⚄\": 5, \"⚅\": 6}\n",
    "\n",
    "# for each possible score (keys), initialize the number of ways to get it (values) to zero\n",
    "ways_to_get = {2: 0, 3: 0, 4: 0, 5: 0, 6: 0, 7: 0, 8: 0, 9: 0, 10: 0, 11: 0, 12: 0}\n",
    "\n",
    "# try all combinations and count the number of ways to get each score\n",
    "for die1 in [\"⚀\", \"⚁\", \"⚂\", \"⚃\", \"⚄\", \"⚅\"]:\n",
    "    for die2 in [\"⚀\", \"⚁\", \"⚂\", \"⚃\", \"⚄\", \"⚅\"]:\n",
    "        score = score_of_one_die[die1] + score_of_one_die[die2]\n",
    "        print(die1, die2, \"has a total score of\", score)\n",
    "\n",
    "        ways_to_get[score] += 1\n",
    "\n",
    "# Note: \"x += 1\" is shorthand for \"x = x + 1\"."
   ]
  },
  {
   "cell_type": "code",
   "execution_count": null,
   "id": "d296d0aa-d3de-458e-8429-58fa770fa6dc",
   "metadata": {},
   "outputs": [],
   "source": [
    "ways_to_get"
   ]
  },
  {
   "cell_type": "code",
   "execution_count": null,
   "id": "1d63976e-52df-43c8-8e45-2969281be188",
   "metadata": {},
   "outputs": [],
   "source": [
    "ways_to_get_anything = sum(ways_to_get.values())\n",
    "ways_to_get_anything"
   ]
  },
  {
   "cell_type": "code",
   "execution_count": null,
   "id": "6bca589f-a134-49a9-ad2d-fd3bde51f56c",
   "metadata": {},
   "outputs": [],
   "source": [
    "fig, ax = plt.subplots()\n",
    "\n",
    "probabilities = []\n",
    "for score, number_of_ways in ways_to_get.items():\n",
    "    probabilities.append(number_of_ways / ways_to_get_anything)\n",
    "\n",
    "ax.bar(ways_to_get.keys(), probabilities)\n",
    "\n",
    "ax.set_xticks(list(ways_to_get.keys()), ways_to_get.keys())\n",
    "ax.set_xlabel(\"score\")\n",
    "ax.set_ylabel(\"probability\")\n",
    "\n",
    "None"
   ]
  },
  {
   "cell_type": "markdown",
   "id": "ab225f38-8218-4212-8170-ac904ac5bbf1",
   "metadata": {},
   "source": [
    "<br><br><br>"
   ]
  },
  {
   "cell_type": "markdown",
   "id": "0f69034d-56b5-4dbc-9c74-8da5331841fa",
   "metadata": {},
   "source": [
    "Any shape is possible, but a distribution must always have a total probability of 1."
   ]
  },
  {
   "cell_type": "code",
   "execution_count": null,
   "id": "ef534ac5-69cb-44f2-92eb-f8f1b2c0c175",
   "metadata": {},
   "outputs": [],
   "source": [
    "sum(probabilities)"
   ]
  },
  {
   "cell_type": "markdown",
   "id": "9105ee8a-302d-4de0-90da-52fccced6b02",
   "metadata": {},
   "source": [
    "<br><br><br>"
   ]
  },
  {
   "cell_type": "markdown",
   "id": "a947d695-c0bf-4d21-ac09-f8a05723b7a5",
   "metadata": {
    "jp-MarkdownHeadingCollapsed": true
   },
   "source": [
    "### Descriptive statistics"
   ]
  },
  {
   "cell_type": "markdown",
   "id": "7f208b8a-6f7c-414b-b582-2888b166c979",
   "metadata": {},
   "source": [
    "**Descriptive statistics** are numbers that summarize a distribution or a collection of measurements.\n",
    "\n",
    "For example, the **mean** (also known as average) of the two-dice probability distribution can be computed like this:"
   ]
  },
  {
   "cell_type": "code",
   "execution_count": null,
   "id": "863cd470-4f71-441b-a77c-7a5a0bca4487",
   "metadata": {},
   "outputs": [],
   "source": [
    "numerator = 0\n",
    "denominator = 0\n",
    "\n",
    "for score, number_of_ways in ways_to_get.items():\n",
    "    numerator += score * number_of_ways\n",
    "    denominator += number_of_ways\n",
    "\n",
    "mean = numerator / denominator\n",
    "mean"
   ]
  },
  {
   "cell_type": "markdown",
   "id": "4c6567c7-9fff-4133-97da-052d4a7dca7e",
   "metadata": {},
   "source": [
    "The **median**, or middle of the distribution is also 7, and the **mode**, or most probable possibility, is also 7, for this distribution."
   ]
  },
  {
   "cell_type": "markdown",
   "id": "1ca059c7-9c54-4a6d-962d-e3f45e1c53af",
   "metadata": {},
   "source": [
    "<br><br><br>"
   ]
  },
  {
   "cell_type": "markdown",
   "id": "9ee2138e-5498-4045-9357-abc7b1d26f7f",
   "metadata": {},
   "source": [
    "With a Pandas data frame, you can get most of the descriptive statistics with `describe`:"
   ]
  },
  {
   "cell_type": "code",
   "execution_count": null,
   "id": "05fd3d92-a593-44e2-b708-4271b92e3dd6",
   "metadata": {},
   "outputs": [],
   "source": [
    "penguins.describe()"
   ]
  },
  {
   "cell_type": "markdown",
   "id": "31115619-e5f0-4c8b-b1b7-04fed5027a58",
   "metadata": {},
   "source": [
    "* `count` is just the number of non-missing values,\n",
    "* `mean` is the **mean**,\n",
    "* `std` is the **standard deviation**, or how \"spread out\" the distribution is,\n",
    "* `min` and `max` are the minimum and maximum values in a dataset, which could also be called `0%` and `100%` above,\n",
    "* `50%` is the **median** (not exactly the same as the **mean**),\n",
    "* `25%` and `75%` are lower and upper **quartiles**."
   ]
  },
  {
   "cell_type": "markdown",
   "id": "b2ca20d3-6d73-4952-8cc1-e286a670784d",
   "metadata": {},
   "source": [
    "<br><br><br>"
   ]
  },
  {
   "cell_type": "markdown",
   "id": "72edcf4d-5745-4ae9-9188-44f185e6d538",
   "metadata": {},
   "source": [
    "We'll also need to talk about the **correlation** between two quantities, which describes how closely one distribution \"follows\" another."
   ]
  },
  {
   "cell_type": "markdown",
   "id": "cd31d37c-091b-49bf-a185-d25be2659931",
   "metadata": {},
   "source": [
    "Penguin flipper length and body mass are highly correlated:\n",
    "\n",
    "* penguins with small flippers have small mass\n",
    "* penguins with big flippers have big mass"
   ]
  },
  {
   "cell_type": "code",
   "execution_count": null,
   "id": "0210883a-de7c-400f-819f-5aa160d3d7c0",
   "metadata": {},
   "outputs": [],
   "source": [
    "penguins[\"flipper_length_mm\"].corr(penguins[\"body_mass_g\"])"
   ]
  },
  {
   "cell_type": "code",
   "execution_count": null,
   "id": "04cc9ed2-834c-4e39-b957-ebcd0b747d4f",
   "metadata": {},
   "outputs": [],
   "source": [
    "penguins.plot.scatter(\"flipper_length_mm\", \"body_mass_g\")"
   ]
  },
  {
   "cell_type": "markdown",
   "id": "a6afed03-75df-49d0-81ec-f8ce940b779c",
   "metadata": {},
   "source": [
    "Penguin bill length and depth are not very correlated (even a little anti-correlated):\n",
    "\n",
    "* short, shallow\n",
    "* short, deep\n",
    "* long, shallow\n",
    "* long, deep\n",
    "\n",
    "are roughly equal in distribution (ignoring differences among species).\n",
    "\n",
    "<img src=\"img/culmen_depth.png\" width=\"400\">"
   ]
  },
  {
   "cell_type": "code",
   "execution_count": null,
   "id": "b2268f99-968d-47bc-ac50-f73dd6c286ee",
   "metadata": {},
   "outputs": [],
   "source": [
    "penguins[\"bill_length_mm\"].corr(penguins[\"bill_depth_mm\"])"
   ]
  },
  {
   "cell_type": "code",
   "execution_count": null,
   "id": "d171dfaf-9001-46bd-b027-af6aab6b4700",
   "metadata": {},
   "outputs": [],
   "source": [
    "penguins.plot.scatter(\"bill_length_mm\", \"bill_depth_mm\")"
   ]
  },
  {
   "cell_type": "markdown",
   "id": "b210eae7-150b-4f4b-afde-20f198e121e1",
   "metadata": {},
   "source": [
    "<br><br><br>"
   ]
  },
  {
   "cell_type": "markdown",
   "id": "d941f8a4-bb10-43ba-81af-e02e869006d5",
   "metadata": {},
   "source": [
    "A **correlation** between _A_ and _B_:\n",
    "\n",
    "* can be as high as 1 if _A_ always increases and decreases proportionally with _B_: one distribution is a positive multiple of the other,\n",
    "* can be as log as ‒1 if _A_ always decreases in proportion to _B_'s increases: one distribution is a negative multiple of the other,\n",
    "* can be 0 if _A_ has nothing to do with _B_."
   ]
  },
  {
   "cell_type": "markdown",
   "id": "52a32f76-e8fd-456f-afe9-419cd39a3ef1",
   "metadata": {},
   "source": [
    "<br><br><br>"
   ]
  },
  {
   "cell_type": "markdown",
   "id": "983e6ec7-5bce-418c-9db2-ab3038d87598",
   "metadata": {
    "jp-MarkdownHeadingCollapsed": true
   },
   "source": [
    "### Fitting, fit parameters, goodness of fit"
   ]
  },
  {
   "cell_type": "markdown",
   "id": "9c4c82de-a040-49c9-91de-468b7adbf8aa",
   "metadata": {},
   "source": [
    "We've seen how models can be \"good\" if they agree with the measurements and \"bad\" if they don't agree.\n",
    "\n",
    "The process of making models involves:\n",
    "\n",
    "1. inventing a mathematical formula or computer program with **fit parameters** as unconstrained variables,\n",
    "2. describing the **goodness of fit**, the distance between the model and the measurements for a given set of **fit parameters**,\n",
    "3. tuning the **fit parameters** until they minimize the **goodness of fit**.\n",
    "\n",
    "For example, one way to model the relationship between penguin flipper length and body mass is with the equation for a line:\n",
    "\n",
    "$$\\mbox{\\tt body\\_mass} = a \\times \\mbox{\\tt flipper\\_length} + b$$\n",
    "\n",
    "The **fit parameters** are $a$ and $b$. We haven't determined yet what values they'll take."
   ]
  },
  {
   "cell_type": "code",
   "execution_count": null,
   "id": "89e01c5a-6983-41f2-828a-45e611cea617",
   "metadata": {},
   "outputs": [],
   "source": [
    "def body_mass(flipper_length, a, b):\n",
    "    return a * flipper_length + b"
   ]
  },
  {
   "cell_type": "markdown",
   "id": "5bf0b10c-a61b-4944-8f11-fa0e8f3106db",
   "metadata": {},
   "source": [
    "<br><br><br>"
   ]
  },
  {
   "cell_type": "markdown",
   "id": "0b955af0-4ab7-478a-8558-e76229c2f822",
   "metadata": {},
   "source": [
    "`a = 30` and `b = -3000` is a poor fit. We can try to improve it by changing those values."
   ]
  },
  {
   "cell_type": "code",
   "execution_count": null,
   "id": "e441ab8e-c198-496d-8999-db6dc639bfed",
   "metadata": {},
   "outputs": [],
   "source": [
    "a = 30\n",
    "b = -3000\n",
    "\n",
    "fig, ax = plt.subplots()\n",
    "\n",
    "penguins.plot.scatter(\"flipper_length_mm\", \"body_mass_g\", ax=ax)\n",
    "\n",
    "x = np.linspace(165, 240, 10)\n",
    "y = body_mass(x, a, b)\n",
    "ax.plot(x, y, color=\"orange\")\n",
    "\n",
    "ax.legend([], [], title=f\"a = {a}\\nb = {b}\", loc=\"upper left\")\n",
    "\n",
    "None"
   ]
  },
  {
   "cell_type": "markdown",
   "id": "605c68eb-c525-4770-a79f-e8b5f14a81f8",
   "metadata": {},
   "source": [
    "<br><br><br>"
   ]
  },
  {
   "cell_type": "markdown",
   "id": "8624ffd7-e246-42ac-8969-8c3a50f9b19f",
   "metadata": {},
   "source": [
    "What makes a good fit?\n",
    "\n",
    "The line needs to go close to the points, though it can't go through every point.\n",
    "\n",
    "Perhaps the absolute value of difference between measured and predicted `body_mass`, summed over all measurements? The bigger that number is, the worse the fit is."
   ]
  },
  {
   "cell_type": "code",
   "execution_count": null,
   "id": "b565d4f9-af5e-42a6-ac82-8492d0b642cb",
   "metadata": {},
   "outputs": [],
   "source": [
    "def badness_of_fit(a, b, measurements):\n",
    "    badness = 0\n",
    "\n",
    "    for measured_length, measured_mass in measurements:\n",
    "        badness += (body_mass(measured_length, a, b) - measured_mass)**2\n",
    "    \n",
    "    return badness"
   ]
  },
  {
   "cell_type": "markdown",
   "id": "dbfce8c7-dd15-4d42-9c95-9bfccf47b572",
   "metadata": {},
   "source": [
    "<br><br><br>"
   ]
  },
  {
   "cell_type": "code",
   "execution_count": null,
   "id": "d014ae31-8ff5-4347-b809-c7497b9c0304",
   "metadata": {},
   "outputs": [],
   "source": [
    "a = 30\n",
    "b = -3000\n",
    "\n",
    "fig, ax = plt.subplots()\n",
    "\n",
    "penguins.plot.scatter(\"flipper_length_mm\", \"body_mass_g\", ax=ax)\n",
    "\n",
    "x = np.linspace(165, 240, 10)\n",
    "y = body_mass(x, a, b)\n",
    "ax.plot(x, y, color=\"orange\")\n",
    "\n",
    "measurements = penguins[[\"flipper_length_mm\", \"body_mass_g\"]].dropna().values\n",
    "badness = badness_of_fit(a, b, measurements)\n",
    "\n",
    "ax.legend([], [], title=f\"a = {a}\\nb = {b}\\nbadness = {badness}\", loc=\"upper left\")\n",
    "\n",
    "None"
   ]
  },
  {
   "cell_type": "markdown",
   "id": "7d4c4ed1-3062-42b3-93b7-d9b887cceaee",
   "metadata": {},
   "source": [
    "<br><br><br>"
   ]
  },
  {
   "cell_type": "markdown",
   "id": "d6ec4ff8-87de-48e8-8496-b3b76b246104",
   "metadata": {},
   "source": [
    "On to the first project!"
   ]
  }
 ],
 "metadata": {
  "kernelspec": {
   "display_name": "Python 3 (ipykernel)",
   "language": "python",
   "name": "python3"
  },
  "language_info": {
   "codemirror_mode": {
    "name": "ipython",
    "version": 3
   },
   "file_extension": ".py",
   "mimetype": "text/x-python",
   "name": "python",
   "nbconvert_exporter": "python",
   "pygments_lexer": "ipython3",
   "version": "3.10.14"
  }
 },
 "nbformat": 4,
 "nbformat_minor": 5
}
