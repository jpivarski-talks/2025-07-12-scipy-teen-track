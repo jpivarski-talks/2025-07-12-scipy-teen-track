{
 "cells": [
  {
   "cell_type": "markdown",
   "id": "efec5702-b64f-4e4a-82ed-ee15d05beda9",
   "metadata": {},
   "source": [
    "# First project: automated fitting (30 minutes)"
   ]
  },
  {
   "cell_type": "markdown",
   "id": "15e95295-5d28-42ab-8e43-20bbf926b4ba",
   "metadata": {},
   "source": [
    "In this project, you will write an algorithm in Python to optimize a linear fit.\n",
    "\n",
    "Form groups of 2 or 3 and work together!"
   ]
  },
  {
   "cell_type": "markdown",
   "id": "e4081059-05f9-4703-897d-c9a285e4e133",
   "metadata": {},
   "source": [
    "<br><br><br>"
   ]
  },
  {
   "cell_type": "code",
   "execution_count": null,
   "id": "4a2cf223-ef2e-4bfd-bef4-1cbaa6371d4f",
   "metadata": {},
   "outputs": [],
   "source": [
    "import pandas as pd\n",
    "import numpy as np\n",
    "import matplotlib.pyplot as plt"
   ]
  },
  {
   "cell_type": "markdown",
   "id": "c317393d-75ac-412a-9b39-5d096244ddd2",
   "metadata": {},
   "source": [
    "<br><br><br>"
   ]
  },
  {
   "cell_type": "markdown",
   "id": "1ddfaf3c-c05d-4e40-9fb7-0d5a65496f7d",
   "metadata": {},
   "source": [
    "You'll start with the penguin body mass versus flipper length data:"
   ]
  },
  {
   "cell_type": "code",
   "execution_count": null,
   "id": "141f2731-153b-42c1-b17c-2a20fb681ae8",
   "metadata": {},
   "outputs": [],
   "source": [
    "penguins = pd.read_csv(\"data/penguins.csv\")\n",
    "penguins[[\"flipper_length_mm\", \"body_mass_g\"]]"
   ]
  },
  {
   "cell_type": "code",
   "execution_count": null,
   "id": "1e6927e3-68f7-488a-a618-7b47dd746a02",
   "metadata": {},
   "outputs": [],
   "source": [
    "measurements = penguins[[\"flipper_length_mm\", \"body_mass_g\"]].dropna().values"
   ]
  },
  {
   "cell_type": "markdown",
   "id": "60f93429-7c50-4f0d-a370-a489539fb79d",
   "metadata": {},
   "source": [
    "<br><br><br>"
   ]
  },
  {
   "cell_type": "markdown",
   "id": "9d1f858e-5fb7-4240-bee4-75c0f0865122",
   "metadata": {},
   "source": [
    "You'll use a linear model to predict `body_mass` as a function of `flipper_length`:\n",
    "\n",
    "$$\\mbox{\\tt body\\_mass} = a \\times \\mbox{\\tt flipper\\_length} + b$$"
   ]
  },
  {
   "cell_type": "code",
   "execution_count": null,
   "id": "3424666a-8b65-4e92-b75e-e551b337198c",
   "metadata": {},
   "outputs": [],
   "source": [
    "def body_mass(flipper_length, a, b):\n",
    "    return a * flipper_length + b"
   ]
  },
  {
   "cell_type": "markdown",
   "id": "21247b4b-6a88-408e-b53e-fc4c2741027c",
   "metadata": {},
   "source": [
    "<br><br><br>"
   ]
  },
  {
   "cell_type": "markdown",
   "id": "a77387f8-a342-449e-a0c0-8f6f52883b13",
   "metadata": {},
   "source": [
    "And you'll use the absolute value of differences between measured and predicted `body_mass`, summed over all measurements, as the **badness of fit** criteria:"
   ]
  },
  {
   "cell_type": "code",
   "execution_count": null,
   "id": "8b5e0870-c7b6-43f5-85b1-d67a6bd809df",
   "metadata": {},
   "outputs": [],
   "source": [
    "def badness_of_fit(a, b, measurements):\n",
    "    badness = 0\n",
    "\n",
    "    for measured_length, measured_mass in measurements:\n",
    "        badness += (body_mass(measured_length, a, b) - measured_mass)**2\n",
    "    \n",
    "    return badness"
   ]
  },
  {
   "cell_type": "markdown",
   "id": "74ff2fb0-68e7-4561-a7c0-26c538dc46a1",
   "metadata": {},
   "source": [
    "<br><br><br>"
   ]
  },
  {
   "cell_type": "markdown",
   "id": "a376648a-3742-405a-8f93-d2c1def2e360",
   "metadata": {},
   "source": [
    "Your algorithm doesn't have to find the best fit all at once.\n",
    "\n",
    "Given a bad model with a particular `a` and `b`, it just has to find a _better_ `a` and `b`, and then do that over and over until the model is good.\n",
    "\n",
    "Your code replaces the `print(\"???\")`.\n",
    "\n",
    "Call the `badness_of_fit` function as many times as you need to, varying `a` and `b` however you want."
   ]
  },
  {
   "cell_type": "code",
   "execution_count": null,
   "id": "1c17d904-8f1a-4360-a8f7-0fab5c8f6f62",
   "metadata": {},
   "outputs": [],
   "source": [
    "def better_fit(i, a, b, measurements):\n",
    "    \n",
    "    print(\"???\")\n",
    "\n",
    "    return a, b"
   ]
  },
  {
   "cell_type": "markdown",
   "id": "8a847dde-c033-4c55-9d94-c8d9dfc60d00",
   "metadata": {},
   "source": [
    "<br><br><br>"
   ]
  },
  {
   "cell_type": "markdown",
   "id": "e1d59d69-3aa6-4f2e-b006-034771d2839a",
   "metadata": {},
   "source": [
    "**Suggestion:** Try tuning it by hand before writing an algorithm. The algorithm formalizes what you would do intuitively."
   ]
  },
  {
   "cell_type": "markdown",
   "id": "c001c4a7-ef01-4ae7-b3d5-9aef8a24f7d9",
   "metadata": {},
   "source": [
    "<br><br><br>"
   ]
  },
  {
   "cell_type": "markdown",
   "id": "dfaeb3d1-3885-46bf-ab15-7cd245342089",
   "metadata": {},
   "source": [
    "**To test:** Run the cell below to initialize `a` and `b` to some bad values:"
   ]
  },
  {
   "cell_type": "code",
   "execution_count": null,
   "id": "923df5f6-5ea0-481d-bfe8-f167de3ffdea",
   "metadata": {},
   "outputs": [],
   "source": [
    "i = 0   # iteration number\n",
    "a = 30\n",
    "b = -3000"
   ]
  },
  {
   "cell_type": "markdown",
   "id": "d0eaff2a-be96-402c-9d8b-0b9a2e1456f2",
   "metadata": {},
   "source": [
    "And run this cell over and over (control-enter) to see if your iterative algorithm is improving the fit."
   ]
  },
  {
   "cell_type": "code",
   "execution_count": null,
   "id": "c7b4e61e-b6f2-48ed-b829-fdb2feb750f8",
   "metadata": {},
   "outputs": [],
   "source": [
    "a, b = better_fit(i, a, b, measurements)\n",
    "i += 1\n",
    "\n",
    "fig, ax = plt.subplots()\n",
    "\n",
    "ax.scatter(measurements[:, 0], measurements[:, 1], marker=\".\")\n",
    "\n",
    "x = np.linspace(165, 240, 10)\n",
    "y = body_mass(x, a, b)\n",
    "ax.plot(x, y, color=\"orange\")\n",
    "\n",
    "badness = badness_of_fit(a, b, measurements)\n",
    "\n",
    "ax.legend([], [], title=f\"i = {i}\\na = {a:.2f}\\nb = {b:.0f}\\nbadness = {badness:.2e}\", loc=\"upper left\")\n",
    "\n",
    "None"
   ]
  },
  {
   "cell_type": "markdown",
   "id": "3991aa66-8720-4c8c-b7f0-27a77dcec229",
   "metadata": {},
   "source": [
    "<br><br><br><br><br><br><br><br><br><br><br><br><br><br><br><br><br><br><br><br><br><br><br><br><br>"
   ]
  },
  {
   "cell_type": "markdown",
   "id": "6a87172f-e815-4f97-81b1-a5557a571658",
   "metadata": {},
   "source": [
    "**How good is good enough?**\n",
    "\n",
    "<img src=\"img/04-my-best-fit.svg\" width=\"600\"><img src=\"img/04-best-fit.svg\" width=\"600\">\n",
    "\n",
    "On the left is the best I managed to do with a simple algorithm. It's good enough for this project.\n",
    "\n",
    "On the right is a state-of-the-art best fit."
   ]
  },
  {
   "cell_type": "markdown",
   "id": "39cfeff7-5b29-4547-976f-0f53ce6211e3",
   "metadata": {},
   "source": [
    "<br><br><br>"
   ]
  },
  {
   "cell_type": "markdown",
   "id": "2427ee65-3258-4bf4-9589-51d2d405ecf9",
   "metadata": {},
   "source": [
    "**If it was too easy:**\n",
    "\n",
    "Extra credit: What if you fit to a quadratic function instead of a linear function?\n",
    "\n",
    "```python\n",
    "def body_mass(flipper_length, a, b, c):\n",
    "    return a * flipper_length + b + c * flipper_length**2\n",
    "```\n",
    "\n",
    "Note that you have to propagate this new argument, `c`, into all of the functions above. \"Restart Kernel and Run All Cells\" under the \"Kernel\" menu can be helpful."
   ]
  },
  {
   "cell_type": "markdown",
   "id": "a54392dc-a599-4ded-9c47-aa62e666bd81",
   "metadata": {},
   "source": [
    "<br><br><br>"
   ]
  },
  {
   "cell_type": "markdown",
   "id": "d4a53d3d-d47d-45fa-a2af-be18fc6e982c",
   "metadata": {},
   "source": [
    "**If everyone is done early:**\n",
    "\n",
    "Let me know! If we finish early, we'll have more time to do machine learning."
   ]
  }
 ],
 "metadata": {
  "kernelspec": {
   "display_name": "Python 3 (ipykernel)",
   "language": "python",
   "name": "python3"
  },
  "language_info": {
   "codemirror_mode": {
    "name": "ipython",
    "version": 3
   },
   "file_extension": ".py",
   "mimetype": "text/x-python",
   "name": "python",
   "nbconvert_exporter": "python",
   "pygments_lexer": "ipython3",
   "version": "3.10.14"
  }
 },
 "nbformat": 4,
 "nbformat_minor": 5
}
