{
 "cells": [
  {
   "cell_type": "markdown",
   "id": "68007af5-e1ae-450c-86f9-f1aafae18796",
   "metadata": {},
   "source": [
    "# Machine learning"
   ]
  },
  {
   "cell_type": "markdown",
   "id": "e849101e-fab1-48bf-84fe-a036f7ee8998",
   "metadata": {},
   "source": [
    "<br><br><br>"
   ]
  },
  {
   "cell_type": "markdown",
   "id": "f29fb166-634f-4c01-a9b9-a4d5def09a36",
   "metadata": {
    "jp-MarkdownHeadingCollapsed": true
   },
   "source": [
    "## Solutions to the first project (do not peek!)"
   ]
  },
  {
   "cell_type": "code",
   "execution_count": null,
   "id": "620c8865-6524-4339-8628-94e71a1e71a4",
   "metadata": {},
   "outputs": [],
   "source": [
    "import numpy as np\n",
    "import pandas as pd\n",
    "import matplotlib.pyplot as plt"
   ]
  },
  {
   "cell_type": "code",
   "execution_count": null,
   "id": "119fb42e-3ce3-478f-b6ff-b291b961f6ca",
   "metadata": {},
   "outputs": [],
   "source": [
    "penguins = pd.read_csv(\"data/penguins.csv\")\n",
    "measurements = penguins[[\"flipper_length_mm\", \"body_mass_g\"]].dropna().values"
   ]
  },
  {
   "cell_type": "code",
   "execution_count": null,
   "id": "618a53c2-396a-427d-8d48-75ee67ef279a",
   "metadata": {},
   "outputs": [],
   "source": [
    "def body_mass(flipper_length, a, b):\n",
    "    return a * flipper_length + b"
   ]
  },
  {
   "cell_type": "code",
   "execution_count": null,
   "id": "168cf560-93a1-4669-9023-c1c045be3a1c",
   "metadata": {},
   "outputs": [],
   "source": [
    "def badness_of_fit(a, b, measurements):\n",
    "    badness = 0\n",
    "\n",
    "    for measured_length, measured_mass in measurements:\n",
    "        badness += (body_mass(measured_length, a, b) - measured_mass)**2\n",
    "    \n",
    "    return badness"
   ]
  },
  {
   "cell_type": "code",
   "execution_count": null,
   "id": "1dba4513-8abf-495c-9bc8-ebf0ef3bd84a",
   "metadata": {},
   "outputs": [],
   "source": [
    "def better_fit(i, a, b, measurements):\n",
    "    lowest_badness = badness_of_fit(a, b, measurements)\n",
    "    \n",
    "    if i % 2 == 0:\n",
    "        for new_a in [a + 10, a + 1, a + 0.1, a - 0.1, a - 1, a - 10]:\n",
    "            trial = badness_of_fit(new_a, b, measurements)\n",
    "            if trial < lowest_badness:\n",
    "                lowest_badness = trial\n",
    "                a = new_a\n",
    "\n",
    "    else:\n",
    "        for new_b in [b + 1000, b + 100, b + 10, b - 10, b - 100, b - 1000]:\n",
    "            trial = badness_of_fit(a, new_b, measurements)\n",
    "            if trial < lowest_badness:\n",
    "                lowest_badness = trial\n",
    "                b = new_b\n",
    "\n",
    "    return a, b"
   ]
  },
  {
   "cell_type": "code",
   "execution_count": null,
   "id": "4c2b3bfa-8413-46ef-8da3-cc79496f5669",
   "metadata": {},
   "outputs": [],
   "source": [
    "i = 0   # iteration number\n",
    "a = 30\n",
    "b = -3000"
   ]
  },
  {
   "cell_type": "code",
   "execution_count": null,
   "id": "bf8601f5-5b29-47e0-b5d6-77c482352b94",
   "metadata": {},
   "outputs": [],
   "source": [
    "a, b = better_fit(i, a, b, measurements)\n",
    "i += 1\n",
    "\n",
    "fig, ax = plt.subplots()\n",
    "\n",
    "ax.scatter(measurements[:, 0], measurements[:, 1], marker=\".\")\n",
    "\n",
    "x = np.linspace(165, 240, 10)\n",
    "y = body_mass(x, a, b)\n",
    "ax.plot(x, y, color=\"orange\")\n",
    "\n",
    "badness = badness_of_fit(a, b, measurements)\n",
    "\n",
    "ax.legend([], [], title=f\"i = {i}\\na = {a:.2f}\\nb = {b:.0f}\\nbadness = {badness:.2e}\", loc=\"upper left\")\n",
    "\n",
    "None"
   ]
  },
  {
   "cell_type": "code",
   "execution_count": null,
   "id": "9f814c61-227c-4bc7-8207-dc24ffb48474",
   "metadata": {},
   "outputs": [],
   "source": [
    "my_best_a = a\n",
    "my_best_b = b"
   ]
  },
  {
   "cell_type": "markdown",
   "id": "34a12a22-4dd2-4afe-b711-1b6c81e3b1ae",
   "metadata": {},
   "source": [
    "<br><br><br><br><br><br><br><br><br><br><br><br><br><br><br><br><br><br><br><br><br><br><br><br><br>"
   ]
  },
  {
   "cell_type": "markdown",
   "id": "60949288-fdf7-456d-9ca5-4c3138cf452d",
   "metadata": {
    "jp-MarkdownHeadingCollapsed": true
   },
   "source": [
    "## Linear fit in Scikit-Learn"
   ]
  },
  {
   "cell_type": "markdown",
   "id": "92f7cf85-4b72-4f5e-b95a-ace22f8229c4",
   "metadata": {},
   "source": [
    "<img src=\"img/sklearn-logo.svg\" width=\"300\">"
   ]
  },
  {
   "cell_type": "code",
   "execution_count": null,
   "id": "386c5612-111e-4492-b289-61ab17dbcd50",
   "metadata": {},
   "outputs": [],
   "source": [
    "import sklearn.linear_model"
   ]
  },
  {
   "cell_type": "code",
   "execution_count": null,
   "id": "cb2f1811-1105-4cb8-b8ed-71f881fd0f94",
   "metadata": {},
   "outputs": [],
   "source": [
    "linear = sklearn.linear_model.LinearRegression()"
   ]
  },
  {
   "cell_type": "code",
   "execution_count": null,
   "id": "64b34475-aa36-4432-8ad1-4807678732f7",
   "metadata": {},
   "outputs": [],
   "source": [
    "linear.fit(measurements[:, [0]], measurements[:, [1]])"
   ]
  },
  {
   "cell_type": "code",
   "execution_count": null,
   "id": "e2344a96-a537-4dce-9d02-e4e1ea1e1cea",
   "metadata": {},
   "outputs": [],
   "source": [
    "a = linear.coef_[0, 0]\n",
    "b = linear.intercept_[0]\n",
    "\n",
    "a, b"
   ]
  },
  {
   "cell_type": "code",
   "execution_count": null,
   "id": "74bc55d1-ff5f-44d2-9417-4e2066a7d682",
   "metadata": {},
   "outputs": [],
   "source": [
    "fig, ax = plt.subplots()\n",
    "\n",
    "ax.scatter(measurements[:, 0], measurements[:, 1], marker=\".\")\n",
    "\n",
    "x = np.linspace(165, 240, 10)\n",
    "y = linear.predict(x[:, np.newaxis])\n",
    "ax.plot(x, y, color=\"orange\")\n",
    "\n",
    "badness = badness_of_fit(a, b, measurements)\n",
    "\n",
    "ax.legend([], [], title=f\"a = {a:.2f}\\nb = {b:.0f}\\nbadness = {badness:.2e}\", loc=\"upper left\")\n",
    "\n",
    "None"
   ]
  },
  {
   "cell_type": "markdown",
   "id": "2708ad26-6357-4cc2-b552-e8d1b4394241",
   "metadata": {},
   "source": [
    "<br><br><br>"
   ]
  },
  {
   "cell_type": "markdown",
   "id": "abd54fe7-8625-42cc-a2d9-4a63b6dcd52b",
   "metadata": {},
   "source": [
    "But we didn't do a _standard_ linear fit, in which badness is measured as `(prediction - measurement)**2`, we did a an alternate fit, optimizing `abs(prediction - measurement)`.\n",
    "\n",
    "Fortunately, this is also in Scikit-Learn. Scikit-Learn has _all_ the models!"
   ]
  },
  {
   "cell_type": "markdown",
   "id": "9633153d-1c29-4d28-ae6a-0d22f0544d39",
   "metadata": {},
   "source": [
    "<br><br><br>"
   ]
  },
  {
   "cell_type": "markdown",
   "id": "b6d75ef1-99b2-4700-b982-477e05d98b91",
   "metadata": {},
   "source": [
    "What does the \"badness versus `a` and `b`\" function look like near the minimum?"
   ]
  },
  {
   "cell_type": "code",
   "execution_count": null,
   "id": "0e4cfe3f-6159-41a6-9ab1-ad4efa087bc0",
   "metadata": {},
   "outputs": [],
   "source": [
    "fig, ax = plt.subplots()\n",
    "\n",
    "a_grid, b_grid = np.meshgrid(np.linspace(a - 10, a + 10, 401), np.linspace(b - 3000, b + 3000, 401))\n",
    "contour = ax.contour(a_grid, b_grid, badness_of_fit(a_grid, b_grid, measurements), levels=[badness + 0.5e7, badness + 1e7, badness + 1.5e7])\n",
    "ax.clabel(contour)\n",
    "\n",
    "ax.scatter([a], [b], marker=\"+\", s=800, color=\"red\")\n",
    "ax.scatter([my_best_a], [my_best_b], marker=\"*\", s=800, color=\"red\")\n",
    "\n",
    "ax.set_xlabel(\"parameter a\")\n",
    "ax.set_ylabel(\"parameter b\")\n",
    "\n",
    "None"
   ]
  },
  {
   "cell_type": "markdown",
   "id": "47933658-4d87-44eb-b62a-ac4c2468dff0",
   "metadata": {},
   "source": [
    "It's a long, flat valley in a direction that's diagonal in `a` and `b`.\n",
    "\n",
    "It's a hard minimum to find if we only take steps in the `a` direction or the `b` direction!"
   ]
  },
  {
   "cell_type": "markdown",
   "id": "2310f75b-0459-4e3f-a29f-6c35e8aa5e9d",
   "metadata": {},
   "source": [
    "<br><br><br>"
   ]
  },
  {
   "cell_type": "markdown",
   "id": "465d87df-96d9-4fab-a911-e2422a537bc1",
   "metadata": {},
   "source": [
    "This tool can do linear fits in arbitrary numbers of dimensions. How about 4D?"
   ]
  },
  {
   "cell_type": "code",
   "execution_count": null,
   "id": "10642364-b887-4562-a0a9-e68bee035f51",
   "metadata": {},
   "outputs": [],
   "source": [
    "measurements4D = penguins[[\"bill_length_mm\", \"bill_depth_mm\", \"flipper_length_mm\", \"body_mass_g\"]].dropna().values\n",
    "measurements4D"
   ]
  },
  {
   "cell_type": "code",
   "execution_count": null,
   "id": "823cb782-e5f7-4a97-bdb9-64401770e781",
   "metadata": {},
   "outputs": [],
   "source": [
    "linear4D = sklearn.linear_model.LinearRegression()"
   ]
  },
  {
   "cell_type": "markdown",
   "id": "66d90e06-867d-4725-ba9f-29c4fe76c778",
   "metadata": {},
   "source": [
    "<br><br><br>"
   ]
  },
  {
   "cell_type": "markdown",
   "id": "f0b393fc-ba89-44e9-aff2-4442042eb4f3",
   "metadata": {},
   "source": [
    "This fits a model that uses bill length, bill depth, and flipper length to predict body mass.\n",
    "\n",
    "* 2D fit: 1 dimension predicts 1 dimension, best fit is a _line_,\n",
    "* 3D fit: 2 dimensions predict 1 dimension, best fit is a _plane_,\n",
    "* 4D fit: 3 dimensions predict 1 dimension, best fit is a _hyperplane_..."
   ]
  },
  {
   "cell_type": "code",
   "execution_count": null,
   "id": "c304bcda-2ba4-4b0c-835c-bad2c34fb8a3",
   "metadata": {},
   "outputs": [],
   "source": [
    "linear4D.fit(measurements4D[:, [0, 1, 2]], measurements4D[:, [3]])"
   ]
  },
  {
   "cell_type": "markdown",
   "id": "fbb6249f-6742-4152-b71f-b1e3b4c70e3a",
   "metadata": {},
   "source": [
    "Now there are three `a`'s:"
   ]
  },
  {
   "cell_type": "code",
   "execution_count": null,
   "id": "a6eec5c2-e516-4430-9c0f-e9c239ed9cde",
   "metadata": {},
   "outputs": [],
   "source": [
    "linear4D.coef_"
   ]
  },
  {
   "cell_type": "markdown",
   "id": "490d9081-e79e-41d4-a320-42d46e042c86",
   "metadata": {},
   "source": [
    "But still only one `b`:"
   ]
  },
  {
   "cell_type": "code",
   "execution_count": null,
   "id": "13c1f655-1360-40ba-96bb-f5dbee6ebf58",
   "metadata": {},
   "outputs": [],
   "source": [
    "linear4D.intercept_"
   ]
  },
  {
   "cell_type": "markdown",
   "id": "3c64c726-3173-44fd-bed3-20eebeedeb0a",
   "metadata": {},
   "source": [
    "<br><br><br>"
   ]
  },
  {
   "cell_type": "markdown",
   "id": "fd68c1ec-8890-4c0d-899c-9dcf09671725",
   "metadata": {},
   "source": [
    "We can't easily visualize this, but we can see how well the model predicts some penguin masses."
   ]
  },
  {
   "cell_type": "code",
   "execution_count": null,
   "id": "e554b7a5-ecfb-43c3-9b80-62466b6b0d79",
   "metadata": {},
   "outputs": [],
   "source": [
    "for bill_length, bill_depth, flipper_length, body_mass in measurements4D:\n",
    "\n",
    "    prediction = linear4D.predict([[bill_length, bill_depth, flipper_length]])[0, 0]\n",
    "    actual = body_mass\n",
    "\n",
    "    print(f\"{bill_length = } {bill_depth = } {flipper_length = } | {prediction = :.1f} {actual = }\")"
   ]
  },
  {
   "cell_type": "markdown",
   "id": "304107fc-b9ec-41ac-9abd-918f9edc93a5",
   "metadata": {},
   "source": [
    "<br><br><br>"
   ]
  },
  {
   "cell_type": "code",
   "execution_count": null,
   "id": "8363f81b-0eae-480a-9698-e587257cfd6d",
   "metadata": {},
   "outputs": [],
   "source": [
    "fig, ax = plt.subplots(figsize=(6, 6))\n",
    "\n",
    "predictions = linear4D.predict(measurements4D[:, [0, 1, 2]])[:, 0]\n",
    "actuals = measurements4D[:, 3]\n",
    "\n",
    "ax.scatter(predictions, actuals)\n",
    "\n",
    "ax.set_xlabel(\"predictions (g)\")\n",
    "ax.set_ylabel(\"actuals (g)\")\n",
    "\n",
    "None"
   ]
  },
  {
   "cell_type": "markdown",
   "id": "bbd06e49-90f3-4de3-afe6-5ec1db570ab3",
   "metadata": {},
   "source": [
    "<br><br><br>"
   ]
  },
  {
   "cell_type": "markdown",
   "id": "cc253ace-dcb6-41d6-9424-b73d1876f468",
   "metadata": {},
   "source": [
    "There's a pretty good correlation between the predicted value and the actual value.\n",
    "\n",
    "(Random guesses would be a correlation of 0 and exactly right would be a correlation of 1.)"
   ]
  },
  {
   "cell_type": "code",
   "execution_count": null,
   "id": "febbd78a-ed59-46e2-b885-3a031c6d40eb",
   "metadata": {},
   "outputs": [],
   "source": [
    "pd.Series(predictions).corr(pd.Series(actuals))"
   ]
  },
  {
   "cell_type": "markdown",
   "id": "8dd41afe-13e2-4aad-91d8-3cf68bd5a866",
   "metadata": {},
   "source": [
    "<br><br><br>"
   ]
  },
  {
   "cell_type": "markdown",
   "id": "f2f964dd-8b9c-4d8d-b863-e6db1c6cd2e0",
   "metadata": {
    "jp-MarkdownHeadingCollapsed": true
   },
   "source": [
    "## The breadth of machine learning"
   ]
  },
  {
   "cell_type": "markdown",
   "id": "060c3764-6ae2-40ba-92bf-d7944c49e744",
   "metadata": {},
   "source": [
    "Scikit-Learn is a toolbox full of machine learning models:"
   ]
  },
  {
   "cell_type": "code",
   "execution_count": null,
   "id": "43efb1cf-5626-4bc0-aeae-8dedefb7d817",
   "metadata": {},
   "outputs": [],
   "source": [
    "import sklearn.base\n",
    "import sklearn.cluster as d1\n",
    "import sklearn.compose as d2\n",
    "import sklearn.covariance as d3\n",
    "import sklearn.cross_decomposition as d4\n",
    "import sklearn.decomposition as d5\n",
    "import sklearn.ensemble as d6\n",
    "import sklearn.feature_extraction as d7\n",
    "import sklearn.feature_selection as d8\n",
    "import sklearn.gaussian_process as d9\n",
    "import sklearn.impute as d10\n",
    "import sklearn.linear_model as d11\n",
    "import sklearn.manifold as d12\n",
    "import sklearn.mixture as d13\n",
    "import sklearn.model_selection as d14\n",
    "import sklearn.neighbors as d15\n",
    "import sklearn.neural_network as d16\n",
    "import sklearn.preprocessing as d17\n",
    "import sklearn.semi_supervised as d18\n",
    "import sklearn.svm as d19\n",
    "import sklearn.tree as d20\n",
    "\n",
    "for d in [d1, d2, d3, d4, d5, d6, d7, d8, d9, d10, d11, d12, d13, d14, d15, d16, d17, d18, d19, d20]:\n",
    "    print(\"*\", d.__name__)\n",
    "    for name in dir(d):\n",
    "        obj = getattr(d, name)\n",
    "        if isinstance(obj, type) and issubclass(obj, sklearn.base.BaseEstimator):\n",
    "            if d.__name__ == \"sklearn.linear_model\" and name == \"LinearRegression\":\n",
    "                highlight = \"  <---   This is what we've seen so far!\"\n",
    "            elif d.__name__ == \"sklearn.neural_network\" and name == \"MLPClassifier\":\n",
    "                highlight = \"  <---   We'll also look at this one: neural networks\"\n",
    "            else:\n",
    "                highlight = \"\"\n",
    "            print(\"  -\", name, highlight)"
   ]
  },
  {
   "cell_type": "markdown",
   "id": "72004b82-d94d-48ef-a56a-be64cee40b4d",
   "metadata": {},
   "source": [
    "<br><br><br>"
   ]
  },
  {
   "cell_type": "markdown",
   "id": "c1860123-730b-4bf8-a97e-f39fa33cc210",
   "metadata": {},
   "source": [
    "Artificial intelligence, machine learning, and neural networks have been around for a while.\n",
    "\n",
    "The current renaissance is due:\n",
    "\n",
    "* theoretical improvements in how to implement neural networks _well_,\n",
    "* very large datasets to train (fit) these neural networks—particularly, the existence of the world wide web,\n",
    "* computational hardware capable of dealing with very large datasets—particularly, GPUs.\n",
    "\n",
    "Rise and fall and rise again of words associated with machine learning: frequency of their appearance in books scanned by Google:"
   ]
  },
  {
   "cell_type": "code",
   "execution_count": 1,
   "id": "1d374ad1-16af-4445-bee7-28b1c543f8d7",
   "metadata": {},
   "outputs": [
    {
     "data": {
      "text/html": [
       "<div style=\"overflow: hidden;\"><iframe src=\"https://books.google.com/ngrams/graph?content=artificial+intelligence%2Cmachine+learning%2Cdata+mining%2Cneural+network%2Cdeep+learning%2Cmachine+translation&year_start=1950&year_end=2019&case_insensitive=on&corpus=en-2019&smoothing=0\" width=\"100%\" height=\"800\" scrolling=\"no\" style=\"border: none;\"></div>\n"
      ],
      "text/plain": [
       "<IPython.core.display.HTML object>"
      ]
     },
     "metadata": {},
     "output_type": "display_data"
    }
   ],
   "source": [
    "%%html\n",
    "<div style=\"overflow: hidden;\"><iframe src=\"https://books.google.com/ngrams/graph?content=artificial+intelligence%2Cmachine+learning%2Cdata+mining%2Cneural+network%2Cdeep+learning%2Cmachine+translation&year_start=1950&year_end=2019&case_insensitive=on&corpus=en-2019&smoothing=0\" width=\"100%\" height=\"800\" scrolling=\"no\" style=\"border: none;\"></div>"
   ]
  }
 ],
 "metadata": {
  "kernelspec": {
   "display_name": "Python 3 (ipykernel)",
   "language": "python",
   "name": "python3"
  },
  "language_info": {
   "codemirror_mode": {
    "name": "ipython",
    "version": 3
   },
   "file_extension": ".py",
   "mimetype": "text/x-python",
   "name": "python",
   "nbconvert_exporter": "python",
   "pygments_lexer": "ipython3",
   "version": "3.10.14"
  }
 },
 "nbformat": 4,
 "nbformat_minor": 5
}
